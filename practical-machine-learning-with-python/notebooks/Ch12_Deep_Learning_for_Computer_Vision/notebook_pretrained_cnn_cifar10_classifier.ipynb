{
 "cells": [
  {
   "cell_type": "markdown",
   "metadata": {},
   "source": [
    "# Deep Learning and Transfer Learning with pre-trained models\n",
    "\n",
    "This notebook uses a pretrained model to build a classifier (CNN)"
   ]
  },
  {
   "cell_type": "code",
   "execution_count": 1,
   "metadata": {},
   "outputs": [
    {
     "name": "stderr",
     "output_type": "stream",
     "text": [
      "Using TensorFlow backend.\n"
     ]
    }
   ],
   "source": [
    "# import required libs\n",
    "import os\n",
    "import keras\n",
    "import numpy as np\n",
    "from keras import backend as K\n",
    "from keras import applications\n",
    "from keras.datasets import cifar10\n",
    "from keras.models import Sequential\n",
    "from keras.layers import Dense, Dropout, Flatten\n",
    "\n",
    "import matplotlib.pyplot as plt\n",
    "params = {'legend.fontsize': 'x-large',\n",
    "          'figure.figsize': (15, 5),\n",
    "         'axes.labelsize': 'x-large',\n",
    "         'axes.titlesize':'x-large',\n",
    "         'xtick.labelsize':'x-large',\n",
    "         'ytick.labelsize':'x-large'}\n",
    "\n",
    "plt.rcParams.update(params)\n",
    "\n",
    "%matplotlib inline"
   ]
  },
  {
   "cell_type": "markdown",
   "metadata": {},
   "source": [
    "## Load VGG"
   ]
  },
  {
   "cell_type": "code",
   "execution_count": 2,
   "metadata": {
    "collapsed": true
   },
   "outputs": [],
   "source": [
    "vgg_model = applications.VGG19(include_top=False, weights='imagenet')"
   ]
  },
  {
   "cell_type": "code",
   "execution_count": 3,
   "metadata": {},
   "outputs": [
    {
     "name": "stdout",
     "output_type": "stream",
     "text": [
      "_________________________________________________________________\n",
      "Layer (type)                 Output Shape              Param #   \n",
      "=================================================================\n",
      "input_1 (InputLayer)         (None, None, None, 3)     0         \n",
      "_________________________________________________________________\n",
      "block1_conv1 (Conv2D)        (None, None, None, 64)    1792      \n",
      "_________________________________________________________________\n",
      "block1_conv2 (Conv2D)        (None, None, None, 64)    36928     \n",
      "_________________________________________________________________\n",
      "block1_pool (MaxPooling2D)   (None, None, None, 64)    0         \n",
      "_________________________________________________________________\n",
      "block2_conv1 (Conv2D)        (None, None, None, 128)   73856     \n",
      "_________________________________________________________________\n",
      "block2_conv2 (Conv2D)        (None, None, None, 128)   147584    \n",
      "_________________________________________________________________\n",
      "block2_pool (MaxPooling2D)   (None, None, None, 128)   0         \n",
      "_________________________________________________________________\n",
      "block3_conv1 (Conv2D)        (None, None, None, 256)   295168    \n",
      "_________________________________________________________________\n",
      "block3_conv2 (Conv2D)        (None, None, None, 256)   590080    \n",
      "_________________________________________________________________\n",
      "block3_conv3 (Conv2D)        (None, None, None, 256)   590080    \n",
      "_________________________________________________________________\n",
      "block3_conv4 (Conv2D)        (None, None, None, 256)   590080    \n",
      "_________________________________________________________________\n",
      "block3_pool (MaxPooling2D)   (None, None, None, 256)   0         \n",
      "_________________________________________________________________\n",
      "block4_conv1 (Conv2D)        (None, None, None, 512)   1180160   \n",
      "_________________________________________________________________\n",
      "block4_conv2 (Conv2D)        (None, None, None, 512)   2359808   \n",
      "_________________________________________________________________\n",
      "block4_conv3 (Conv2D)        (None, None, None, 512)   2359808   \n",
      "_________________________________________________________________\n",
      "block4_conv4 (Conv2D)        (None, None, None, 512)   2359808   \n",
      "_________________________________________________________________\n",
      "block4_pool (MaxPooling2D)   (None, None, None, 512)   0         \n",
      "_________________________________________________________________\n",
      "block5_conv1 (Conv2D)        (None, None, None, 512)   2359808   \n",
      "_________________________________________________________________\n",
      "block5_conv2 (Conv2D)        (None, None, None, 512)   2359808   \n",
      "_________________________________________________________________\n",
      "block5_conv3 (Conv2D)        (None, None, None, 512)   2359808   \n",
      "_________________________________________________________________\n",
      "block5_conv4 (Conv2D)        (None, None, None, 512)   2359808   \n",
      "_________________________________________________________________\n",
      "block5_pool (MaxPooling2D)   (None, None, None, 512)   0         \n",
      "=================================================================\n",
      "Total params: 20,024,384\n",
      "Trainable params: 20,024,384\n",
      "Non-trainable params: 0\n",
      "_________________________________________________________________\n"
     ]
    }
   ],
   "source": [
    "vgg_model.summary()"
   ]
  },
  {
   "cell_type": "markdown",
   "metadata": {},
   "source": [
    "Set Parameters"
   ]
  },
  {
   "cell_type": "code",
   "execution_count": 4,
   "metadata": {
    "collapsed": true
   },
   "outputs": [],
   "source": [
    "batch_size = 128\n",
    "num_classes = 10\n",
    "epochs = 50\n",
    "\n",
    "bottleneck_path = r'F:\\work\\kaggle\\cifar10_cnn\\bottleneck_features_train_vgg19.npy'"
   ]
  },
  {
   "cell_type": "markdown",
   "metadata": {},
   "source": [
    "## Get CIFAR10 Dataset"
   ]
  },
  {
   "cell_type": "code",
   "execution_count": 5,
   "metadata": {
    "collapsed": true
   },
   "outputs": [],
   "source": [
    "# the data, shuffled and split between train and test sets\n",
    "(x_train, y_train), (x_test, y_test) = cifar10.load_data()"
   ]
  },
  {
   "cell_type": "code",
   "execution_count": 6,
   "metadata": {},
   "outputs": [
    {
     "name": "stdout",
     "output_type": "stream",
     "text": [
      "x_train shape: (50000, 32, 32, 3)\n",
      "50000 train samples\n",
      "10000 test samples\n"
     ]
    }
   ],
   "source": [
    "print('x_train shape:', x_train.shape)\n",
    "print(x_train.shape[0], 'train samples')\n",
    "print(x_test.shape[0], 'test samples')"
   ]
  },
  {
   "cell_type": "code",
   "execution_count": 7,
   "metadata": {},
   "outputs": [
    {
     "data": {
      "text/plain": [
       "(50000, 10)"
      ]
     },
     "execution_count": 7,
     "metadata": {},
     "output_type": "execute_result"
    }
   ],
   "source": [
    "# convert class vectors to binary class matrices\n",
    "y_train = keras.utils.to_categorical(y_train, num_classes)\n",
    "y_test = keras.utils.to_categorical(y_test, num_classes)\n",
    "\n",
    "y_train.shape"
   ]
  },
  {
   "cell_type": "markdown",
   "metadata": {},
   "source": [
    "## Pretrained Model for Feature Extraction"
   ]
  },
  {
   "cell_type": "code",
   "execution_count": 8,
   "metadata": {
    "collapsed": true
   },
   "outputs": [],
   "source": [
    "if not os.path.exists(bottleneck_path):\n",
    "    bottleneck_features_train = vgg_model.predict(x_train,verbose=1)\n",
    "    np.save(open(bottleneck_path, 'wb'),\n",
    "            bottleneck_features_train)\n",
    "else:\n",
    "    bottleneck_features_train = np.load(open(bottleneck_path,'rb'))"
   ]
  },
  {
   "cell_type": "code",
   "execution_count": 9,
   "metadata": {},
   "outputs": [
    {
     "data": {
      "text/plain": [
       "(1, 1, 512)"
      ]
     },
     "execution_count": 9,
     "metadata": {},
     "output_type": "execute_result"
    }
   ],
   "source": [
    "bottleneck_features_train[0].shape"
   ]
  },
  {
   "cell_type": "code",
   "execution_count": 10,
   "metadata": {},
   "outputs": [
    {
     "name": "stdout",
     "output_type": "stream",
     "text": [
      "10000/10000 [==============================] - 238s   \n"
     ]
    }
   ],
   "source": [
    "bottleneck_features_test = vgg_model.predict(x_test,verbose=1)"
   ]
  },
  {
   "cell_type": "markdown",
   "metadata": {},
   "source": [
    "## Custom Classifier"
   ]
  },
  {
   "cell_type": "code",
   "execution_count": 11,
   "metadata": {
    "collapsed": true,
    "scrolled": false
   },
   "outputs": [],
   "source": [
    "clf_model = Sequential()\n",
    "clf_model.add(Flatten(input_shape=bottleneck_features_train.shape[1:]))\n",
    "clf_model.add(Dense(512, activation='relu'))\n",
    "clf_model.add(Dropout(0.5))\n",
    "clf_model.add(Dense(256, activation='relu'))\n",
    "clf_model.add(Dropout(0.5))\n",
    "clf_model.add(Dense(num_classes, activation='softmax'))"
   ]
  },
  {
   "cell_type": "markdown",
   "metadata": {},
   "source": [
    "## Visualize the network architecture"
   ]
  },
  {
   "cell_type": "code",
   "execution_count": 12,
   "metadata": {},
   "outputs": [
    {
     "data": {
      "image/svg+xml": [
       "<svg height=\"553pt\" viewBox=\"0.00 0.00 343.00 553.00\" width=\"343pt\" xmlns=\"http://www.w3.org/2000/svg\" xmlns:xlink=\"http://www.w3.org/1999/xlink\">\n",
       "<g class=\"graph\" id=\"graph0\" transform=\"scale(1 1) rotate(0) translate(4 549)\">\n",
       "<title>G</title>\n",
       "<polygon fill=\"white\" points=\"-4,4 -4,-549 339,-549 339,4 -4,4\" stroke=\"none\"/>\n",
       "<!-- 2250072534264 -->\n",
       "<g class=\"node\" id=\"node1\"><title>2250072534264</title>\n",
       "<polygon fill=\"none\" points=\"0,-498.5 0,-544.5 335,-544.5 335,-498.5 0,-498.5\" stroke=\"black\"/>\n",
       "<text font-family=\"Times New Roman,serif\" font-size=\"14.00\" text-anchor=\"middle\" x=\"83.5\" y=\"-517.8\">flatten_1_input: InputLayer</text>\n",
       "<polyline fill=\"none\" points=\"167,-498.5 167,-544.5 \" stroke=\"black\"/>\n",
       "<text font-family=\"Times New Roman,serif\" font-size=\"14.00\" text-anchor=\"middle\" x=\"195\" y=\"-529.3\">input:</text>\n",
       "<polyline fill=\"none\" points=\"167,-521.5 223,-521.5 \" stroke=\"black\"/>\n",
       "<text font-family=\"Times New Roman,serif\" font-size=\"14.00\" text-anchor=\"middle\" x=\"195\" y=\"-506.3\">output:</text>\n",
       "<polyline fill=\"none\" points=\"223,-498.5 223,-544.5 \" stroke=\"black\"/>\n",
       "<text font-family=\"Times New Roman,serif\" font-size=\"14.00\" text-anchor=\"middle\" x=\"279\" y=\"-529.3\">(None, 1, 1, 512)</text>\n",
       "<polyline fill=\"none\" points=\"223,-521.5 335,-521.5 \" stroke=\"black\"/>\n",
       "<text font-family=\"Times New Roman,serif\" font-size=\"14.00\" text-anchor=\"middle\" x=\"279\" y=\"-506.3\">(None, 1, 1, 512)</text>\n",
       "</g>\n",
       "<!-- 2250072533760 -->\n",
       "<g class=\"node\" id=\"node2\"><title>2250072533760</title>\n",
       "<polygon fill=\"none\" points=\"29,-415.5 29,-461.5 306,-461.5 306,-415.5 29,-415.5\" stroke=\"black\"/>\n",
       "<text font-family=\"Times New Roman,serif\" font-size=\"14.00\" text-anchor=\"middle\" x=\"83.5\" y=\"-434.8\">flatten_1: Flatten</text>\n",
       "<polyline fill=\"none\" points=\"138,-415.5 138,-461.5 \" stroke=\"black\"/>\n",
       "<text font-family=\"Times New Roman,serif\" font-size=\"14.00\" text-anchor=\"middle\" x=\"166\" y=\"-446.3\">input:</text>\n",
       "<polyline fill=\"none\" points=\"138,-438.5 194,-438.5 \" stroke=\"black\"/>\n",
       "<text font-family=\"Times New Roman,serif\" font-size=\"14.00\" text-anchor=\"middle\" x=\"166\" y=\"-423.3\">output:</text>\n",
       "<polyline fill=\"none\" points=\"194,-415.5 194,-461.5 \" stroke=\"black\"/>\n",
       "<text font-family=\"Times New Roman,serif\" font-size=\"14.00\" text-anchor=\"middle\" x=\"250\" y=\"-446.3\">(None, 1, 1, 512)</text>\n",
       "<polyline fill=\"none\" points=\"194,-438.5 306,-438.5 \" stroke=\"black\"/>\n",
       "<text font-family=\"Times New Roman,serif\" font-size=\"14.00\" text-anchor=\"middle\" x=\"250\" y=\"-423.3\">(None, 512)</text>\n",
       "</g>\n",
       "<!-- 2250072534264&#45;&gt;2250072533760 -->\n",
       "<g class=\"edge\" id=\"edge1\"><title>2250072534264-&gt;2250072533760</title>\n",
       "<path d=\"M167.5,-498.366C167.5,-490.152 167.5,-480.658 167.5,-471.725\" fill=\"none\" stroke=\"black\"/>\n",
       "<polygon fill=\"black\" points=\"171,-471.607 167.5,-461.607 164,-471.607 171,-471.607\" stroke=\"black\"/>\n",
       "</g>\n",
       "<!-- 2250072541952 -->\n",
       "<g class=\"node\" id=\"node3\"><title>2250072541952</title>\n",
       "<polygon fill=\"none\" points=\"46,-332.5 46,-378.5 289,-378.5 289,-332.5 46,-332.5\" stroke=\"black\"/>\n",
       "<text font-family=\"Times New Roman,serif\" font-size=\"14.00\" text-anchor=\"middle\" x=\"98\" y=\"-351.8\">dense_1: Dense</text>\n",
       "<polyline fill=\"none\" points=\"150,-332.5 150,-378.5 \" stroke=\"black\"/>\n",
       "<text font-family=\"Times New Roman,serif\" font-size=\"14.00\" text-anchor=\"middle\" x=\"178\" y=\"-363.3\">input:</text>\n",
       "<polyline fill=\"none\" points=\"150,-355.5 206,-355.5 \" stroke=\"black\"/>\n",
       "<text font-family=\"Times New Roman,serif\" font-size=\"14.00\" text-anchor=\"middle\" x=\"178\" y=\"-340.3\">output:</text>\n",
       "<polyline fill=\"none\" points=\"206,-332.5 206,-378.5 \" stroke=\"black\"/>\n",
       "<text font-family=\"Times New Roman,serif\" font-size=\"14.00\" text-anchor=\"middle\" x=\"247.5\" y=\"-363.3\">(None, 512)</text>\n",
       "<polyline fill=\"none\" points=\"206,-355.5 289,-355.5 \" stroke=\"black\"/>\n",
       "<text font-family=\"Times New Roman,serif\" font-size=\"14.00\" text-anchor=\"middle\" x=\"247.5\" y=\"-340.3\">(None, 512)</text>\n",
       "</g>\n",
       "<!-- 2250072533760&#45;&gt;2250072541952 -->\n",
       "<g class=\"edge\" id=\"edge2\"><title>2250072533760-&gt;2250072541952</title>\n",
       "<path d=\"M167.5,-415.366C167.5,-407.152 167.5,-397.658 167.5,-388.725\" fill=\"none\" stroke=\"black\"/>\n",
       "<polygon fill=\"black\" points=\"171,-388.607 167.5,-378.607 164,-388.607 171,-388.607\" stroke=\"black\"/>\n",
       "</g>\n",
       "<!-- 2250072541392 -->\n",
       "<g class=\"node\" id=\"node4\"><title>2250072541392</title>\n",
       "<polygon fill=\"none\" points=\"33,-249.5 33,-295.5 302,-295.5 302,-249.5 33,-249.5\" stroke=\"black\"/>\n",
       "<text font-family=\"Times New Roman,serif\" font-size=\"14.00\" text-anchor=\"middle\" x=\"98\" y=\"-268.8\">dropout_1: Dropout</text>\n",
       "<polyline fill=\"none\" points=\"163,-249.5 163,-295.5 \" stroke=\"black\"/>\n",
       "<text font-family=\"Times New Roman,serif\" font-size=\"14.00\" text-anchor=\"middle\" x=\"191\" y=\"-280.3\">input:</text>\n",
       "<polyline fill=\"none\" points=\"163,-272.5 219,-272.5 \" stroke=\"black\"/>\n",
       "<text font-family=\"Times New Roman,serif\" font-size=\"14.00\" text-anchor=\"middle\" x=\"191\" y=\"-257.3\">output:</text>\n",
       "<polyline fill=\"none\" points=\"219,-249.5 219,-295.5 \" stroke=\"black\"/>\n",
       "<text font-family=\"Times New Roman,serif\" font-size=\"14.00\" text-anchor=\"middle\" x=\"260.5\" y=\"-280.3\">(None, 512)</text>\n",
       "<polyline fill=\"none\" points=\"219,-272.5 302,-272.5 \" stroke=\"black\"/>\n",
       "<text font-family=\"Times New Roman,serif\" font-size=\"14.00\" text-anchor=\"middle\" x=\"260.5\" y=\"-257.3\">(None, 512)</text>\n",
       "</g>\n",
       "<!-- 2250072541952&#45;&gt;2250072541392 -->\n",
       "<g class=\"edge\" id=\"edge3\"><title>2250072541952-&gt;2250072541392</title>\n",
       "<path d=\"M167.5,-332.366C167.5,-324.152 167.5,-314.658 167.5,-305.725\" fill=\"none\" stroke=\"black\"/>\n",
       "<polygon fill=\"black\" points=\"171,-305.607 167.5,-295.607 164,-305.607 171,-305.607\" stroke=\"black\"/>\n",
       "</g>\n",
       "<!-- 2249866395832 -->\n",
       "<g class=\"node\" id=\"node5\"><title>2249866395832</title>\n",
       "<polygon fill=\"none\" points=\"46,-166.5 46,-212.5 289,-212.5 289,-166.5 46,-166.5\" stroke=\"black\"/>\n",
       "<text font-family=\"Times New Roman,serif\" font-size=\"14.00\" text-anchor=\"middle\" x=\"98\" y=\"-185.8\">dense_2: Dense</text>\n",
       "<polyline fill=\"none\" points=\"150,-166.5 150,-212.5 \" stroke=\"black\"/>\n",
       "<text font-family=\"Times New Roman,serif\" font-size=\"14.00\" text-anchor=\"middle\" x=\"178\" y=\"-197.3\">input:</text>\n",
       "<polyline fill=\"none\" points=\"150,-189.5 206,-189.5 \" stroke=\"black\"/>\n",
       "<text font-family=\"Times New Roman,serif\" font-size=\"14.00\" text-anchor=\"middle\" x=\"178\" y=\"-174.3\">output:</text>\n",
       "<polyline fill=\"none\" points=\"206,-166.5 206,-212.5 \" stroke=\"black\"/>\n",
       "<text font-family=\"Times New Roman,serif\" font-size=\"14.00\" text-anchor=\"middle\" x=\"247.5\" y=\"-197.3\">(None, 512)</text>\n",
       "<polyline fill=\"none\" points=\"206,-189.5 289,-189.5 \" stroke=\"black\"/>\n",
       "<text font-family=\"Times New Roman,serif\" font-size=\"14.00\" text-anchor=\"middle\" x=\"247.5\" y=\"-174.3\">(None, 256)</text>\n",
       "</g>\n",
       "<!-- 2250072541392&#45;&gt;2249866395832 -->\n",
       "<g class=\"edge\" id=\"edge4\"><title>2250072541392-&gt;2249866395832</title>\n",
       "<path d=\"M167.5,-249.366C167.5,-241.152 167.5,-231.658 167.5,-222.725\" fill=\"none\" stroke=\"black\"/>\n",
       "<polygon fill=\"black\" points=\"171,-222.607 167.5,-212.607 164,-222.607 171,-222.607\" stroke=\"black\"/>\n",
       "</g>\n",
       "<!-- 2250072534488 -->\n",
       "<g class=\"node\" id=\"node6\"><title>2250072534488</title>\n",
       "<polygon fill=\"none\" points=\"33,-83.5 33,-129.5 302,-129.5 302,-83.5 33,-83.5\" stroke=\"black\"/>\n",
       "<text font-family=\"Times New Roman,serif\" font-size=\"14.00\" text-anchor=\"middle\" x=\"98\" y=\"-102.8\">dropout_2: Dropout</text>\n",
       "<polyline fill=\"none\" points=\"163,-83.5 163,-129.5 \" stroke=\"black\"/>\n",
       "<text font-family=\"Times New Roman,serif\" font-size=\"14.00\" text-anchor=\"middle\" x=\"191\" y=\"-114.3\">input:</text>\n",
       "<polyline fill=\"none\" points=\"163,-106.5 219,-106.5 \" stroke=\"black\"/>\n",
       "<text font-family=\"Times New Roman,serif\" font-size=\"14.00\" text-anchor=\"middle\" x=\"191\" y=\"-91.3\">output:</text>\n",
       "<polyline fill=\"none\" points=\"219,-83.5 219,-129.5 \" stroke=\"black\"/>\n",
       "<text font-family=\"Times New Roman,serif\" font-size=\"14.00\" text-anchor=\"middle\" x=\"260.5\" y=\"-114.3\">(None, 256)</text>\n",
       "<polyline fill=\"none\" points=\"219,-106.5 302,-106.5 \" stroke=\"black\"/>\n",
       "<text font-family=\"Times New Roman,serif\" font-size=\"14.00\" text-anchor=\"middle\" x=\"260.5\" y=\"-91.3\">(None, 256)</text>\n",
       "</g>\n",
       "<!-- 2249866395832&#45;&gt;2250072534488 -->\n",
       "<g class=\"edge\" id=\"edge5\"><title>2249866395832-&gt;2250072534488</title>\n",
       "<path d=\"M167.5,-166.366C167.5,-158.152 167.5,-148.658 167.5,-139.725\" fill=\"none\" stroke=\"black\"/>\n",
       "<polygon fill=\"black\" points=\"171,-139.607 167.5,-129.607 164,-139.607 171,-139.607\" stroke=\"black\"/>\n",
       "</g>\n",
       "<!-- 2250083045048 -->\n",
       "<g class=\"node\" id=\"node7\"><title>2250083045048</title>\n",
       "<polygon fill=\"none\" points=\"46,-0.5 46,-46.5 289,-46.5 289,-0.5 46,-0.5\" stroke=\"black\"/>\n",
       "<text font-family=\"Times New Roman,serif\" font-size=\"14.00\" text-anchor=\"middle\" x=\"98\" y=\"-19.8\">dense_3: Dense</text>\n",
       "<polyline fill=\"none\" points=\"150,-0.5 150,-46.5 \" stroke=\"black\"/>\n",
       "<text font-family=\"Times New Roman,serif\" font-size=\"14.00\" text-anchor=\"middle\" x=\"178\" y=\"-31.3\">input:</text>\n",
       "<polyline fill=\"none\" points=\"150,-23.5 206,-23.5 \" stroke=\"black\"/>\n",
       "<text font-family=\"Times New Roman,serif\" font-size=\"14.00\" text-anchor=\"middle\" x=\"178\" y=\"-8.3\">output:</text>\n",
       "<polyline fill=\"none\" points=\"206,-0.5 206,-46.5 \" stroke=\"black\"/>\n",
       "<text font-family=\"Times New Roman,serif\" font-size=\"14.00\" text-anchor=\"middle\" x=\"247.5\" y=\"-31.3\">(None, 256)</text>\n",
       "<polyline fill=\"none\" points=\"206,-23.5 289,-23.5 \" stroke=\"black\"/>\n",
       "<text font-family=\"Times New Roman,serif\" font-size=\"14.00\" text-anchor=\"middle\" x=\"247.5\" y=\"-8.3\">(None, 10)</text>\n",
       "</g>\n",
       "<!-- 2250072534488&#45;&gt;2250083045048 -->\n",
       "<g class=\"edge\" id=\"edge6\"><title>2250072534488-&gt;2250083045048</title>\n",
       "<path d=\"M167.5,-83.3664C167.5,-75.1516 167.5,-65.6579 167.5,-56.7252\" fill=\"none\" stroke=\"black\"/>\n",
       "<polygon fill=\"black\" points=\"171,-56.6068 167.5,-46.6068 164,-56.6069 171,-56.6068\" stroke=\"black\"/>\n",
       "</g>\n",
       "</g>\n",
       "</svg>"
      ],
      "text/plain": [
       "<IPython.core.display.SVG object>"
      ]
     },
     "execution_count": 12,
     "metadata": {},
     "output_type": "execute_result"
    }
   ],
   "source": [
    "from IPython.display import SVG\n",
    "from keras.utils.vis_utils import model_to_dot\n",
    "\n",
    "SVG(model_to_dot(clf_model, show_shapes=True, \n",
    "                 show_layer_names=True, rankdir='TB').create(prog='dot', format='svg'))"
   ]
  },
  {
   "cell_type": "markdown",
   "metadata": {},
   "source": [
    "## Compile the model"
   ]
  },
  {
   "cell_type": "code",
   "execution_count": 13,
   "metadata": {
    "collapsed": true
   },
   "outputs": [],
   "source": [
    "clf_model.compile(loss=keras.losses.categorical_crossentropy,\n",
    "              optimizer=keras.optimizers.Adadelta(),\n",
    "              metrics=['accuracy'])"
   ]
  },
  {
   "cell_type": "markdown",
   "metadata": {},
   "source": [
    "## Train the classifier"
   ]
  },
  {
   "cell_type": "code",
   "execution_count": 14,
   "metadata": {
    "scrolled": false
   },
   "outputs": [
    {
     "name": "stdout",
     "output_type": "stream",
     "text": [
      "Epoch 1/50\n",
      "50000/50000 [==============================] - 8s - loss: 7.2495 - acc: 0.2799     \n",
      "Epoch 2/50\n",
      "50000/50000 [==============================] - 7s - loss: 2.2513 - acc: 0.2768     \n",
      "Epoch 3/50\n",
      "50000/50000 [==============================] - 7s - loss: 1.9096 - acc: 0.3521     \n",
      "Epoch 4/50\n",
      "50000/50000 [==============================] - 7s - loss: 1.7601 - acc: 0.4020     \n",
      "Epoch 5/50\n",
      "50000/50000 [==============================] - 7s - loss: 1.6501 - acc: 0.4355     \n",
      "Epoch 6/50\n",
      "50000/50000 [==============================] - 8s - loss: 1.5804 - acc: 0.4581     \n",
      "Epoch 7/50\n",
      "50000/50000 [==============================] - 7s - loss: 1.5295 - acc: 0.4766     \n",
      "Epoch 8/50\n",
      "50000/50000 [==============================] - 7s - loss: 1.4790 - acc: 0.4953     \n",
      "Epoch 9/50\n",
      "50000/50000 [==============================] - 7s - loss: 1.4420 - acc: 0.5078     \n",
      "Epoch 10/50\n",
      "50000/50000 [==============================] - 7s - loss: 1.4102 - acc: 0.5183     \n",
      "Epoch 11/50\n",
      "50000/50000 [==============================] - 7s - loss: 1.3822 - acc: 0.5278     \n",
      "Epoch 12/50\n",
      "50000/50000 [==============================] - 7s - loss: 1.3569 - acc: 0.5389     \n",
      "Epoch 13/50\n",
      "50000/50000 [==============================] - 7s - loss: 1.3359 - acc: 0.5461     \n",
      "Epoch 14/50\n",
      "50000/50000 [==============================] - 7s - loss: 1.3148 - acc: 0.5534     \n",
      "Epoch 15/50\n",
      "50000/50000 [==============================] - 7s - loss: 1.2919 - acc: 0.5628     \n",
      "Epoch 16/50\n",
      "50000/50000 [==============================] - 7s - loss: 1.2676 - acc: 0.5674     \n",
      "Epoch 17/50\n",
      "50000/50000 [==============================] - 7s - loss: 1.2588 - acc: 0.5713     \n",
      "Epoch 18/50\n",
      "50000/50000 [==============================] - 7s - loss: 1.2441 - acc: 0.5776     \n",
      "Epoch 19/50\n",
      "50000/50000 [==============================] - 7s - loss: 1.2225 - acc: 0.5861     \n",
      "Epoch 20/50\n",
      "50000/50000 [==============================] - 7s - loss: 1.2082 - acc: 0.5909     \n",
      "Epoch 21/50\n",
      "50000/50000 [==============================] - 7s - loss: 1.1935 - acc: 0.5966     \n",
      "Epoch 22/50\n",
      "50000/50000 [==============================] - 7s - loss: 1.1786 - acc: 0.5999     \n",
      "Epoch 23/50\n",
      "50000/50000 [==============================] - 7s - loss: 1.1657 - acc: 0.6026     \n",
      "Epoch 24/50\n",
      "50000/50000 [==============================] - 7s - loss: 1.1531 - acc: 0.6085     \n",
      "Epoch 25/50\n",
      "50000/50000 [==============================] - 7s - loss: 1.1421 - acc: 0.6138     \n",
      "Epoch 26/50\n",
      "50000/50000 [==============================] - 7s - loss: 1.1328 - acc: 0.6158     \n",
      "Epoch 27/50\n",
      "50000/50000 [==============================] - 7s - loss: 1.1204 - acc: 0.6191     \n",
      "Epoch 28/50\n",
      "50000/50000 [==============================] - 7s - loss: 1.1085 - acc: 0.6228     \n",
      "Epoch 29/50\n",
      "50000/50000 [==============================] - 7s - loss: 1.0986 - acc: 0.6274     \n",
      "Epoch 30/50\n",
      "50000/50000 [==============================] - 7s - loss: 1.0914 - acc: 0.6313     \n",
      "Epoch 31/50\n",
      "50000/50000 [==============================] - 7s - loss: 1.0770 - acc: 0.6341     \n",
      "Epoch 32/50\n",
      "50000/50000 [==============================] - 7s - loss: 1.0714 - acc: 0.6366     \n",
      "Epoch 33/50\n",
      "50000/50000 [==============================] - 7s - loss: 1.0603 - acc: 0.6417     \n",
      "Epoch 34/50\n",
      "50000/50000 [==============================] - 8s - loss: 1.0459 - acc: 0.6433     \n",
      "Epoch 35/50\n",
      "50000/50000 [==============================] - 8s - loss: 1.0400 - acc: 0.6483     \n",
      "Epoch 36/50\n",
      "50000/50000 [==============================] - 8s - loss: 1.0305 - acc: 0.6465     \n",
      "Epoch 37/50\n",
      "50000/50000 [==============================] - 8s - loss: 1.0145 - acc: 0.6547     \n",
      "Epoch 38/50\n",
      "50000/50000 [==============================] - 8s - loss: 1.0149 - acc: 0.6531     \n",
      "Epoch 39/50\n",
      "50000/50000 [==============================] - 8s - loss: 0.9974 - acc: 0.6587     \n",
      "Epoch 40/50\n",
      "50000/50000 [==============================] - 8s - loss: 0.9915 - acc: 0.6622     \n",
      "Epoch 41/50\n",
      "50000/50000 [==============================] - 8s - loss: 0.9863 - acc: 0.6618     \n",
      "Epoch 42/50\n",
      "50000/50000 [==============================] - 8s - loss: 0.9816 - acc: 0.6644     \n",
      "Epoch 43/50\n",
      "50000/50000 [==============================] - 8s - loss: 0.9754 - acc: 0.6666     \n",
      "Epoch 44/50\n",
      "50000/50000 [==============================] - 8s - loss: 0.9630 - acc: 0.6686     \n",
      "Epoch 45/50\n",
      "50000/50000 [==============================] - 8s - loss: 0.9503 - acc: 0.6755     \n",
      "Epoch 46/50\n",
      "50000/50000 [==============================] - 8s - loss: 0.9479 - acc: 0.6752     \n",
      "Epoch 47/50\n",
      "50000/50000 [==============================] - 8s - loss: 0.9403 - acc: 0.6787     \n",
      "Epoch 48/50\n",
      "50000/50000 [==============================] - 8s - loss: 0.9368 - acc: 0.6814     \n",
      "Epoch 49/50\n",
      "50000/50000 [==============================] - 8s - loss: 0.9223 - acc: 0.6832     \n",
      "Epoch 50/50\n",
      "50000/50000 [==============================] - 8s - loss: 0.9197 - acc: 0.6830     \n"
     ]
    },
    {
     "data": {
      "text/plain": [
       "<keras.callbacks.History at 0x20b81e25320>"
      ]
     },
     "execution_count": 14,
     "metadata": {},
     "output_type": "execute_result"
    }
   ],
   "source": [
    "clf_model.fit(bottleneck_features_train, y_train,\n",
    "          batch_size=batch_size,\n",
    "          epochs=epochs,\n",
    "          verbose=1)"
   ]
  },
  {
   "cell_type": "markdown",
   "metadata": {},
   "source": [
    "## Predict and test model performance"
   ]
  },
  {
   "cell_type": "code",
   "execution_count": 15,
   "metadata": {},
   "outputs": [
    {
     "name": "stdout",
     "output_type": "stream",
     "text": [
      " 9600/10000 [===========================>..] - ETA: 0s"
     ]
    }
   ],
   "source": [
    "score = clf_model.evaluate(bottleneck_features_test, y_test, verbose=1)"
   ]
  },
  {
   "cell_type": "code",
   "execution_count": 16,
   "metadata": {},
   "outputs": [
    {
     "name": "stdout",
     "output_type": "stream",
     "text": [
      "Test loss: 1.20768193054\n",
      "Test accuracy: 0.6352\n"
     ]
    }
   ],
   "source": [
    "print('Test loss:', score[0])\n",
    "print('Test accuracy:', score[1])"
   ]
  },
  {
   "cell_type": "markdown",
   "metadata": {},
   "source": [
    "### Assign label to a test image"
   ]
  },
  {
   "cell_type": "code",
   "execution_count": 53,
   "metadata": {
    "collapsed": true
   },
   "outputs": [],
   "source": [
    "def predict_label(img_idx,show_proba=True):\n",
    "    plt.imshow(x_test[img_idx],aspect='auto')\n",
    "    plt.title(\"Image to be Labeled\")\n",
    "    plt.show()\n",
    "    \n",
    "    print(\"Actual Class:{}\".format(np.nonzero(y_test[img_idx])[0][0]))\n",
    "    \n",
    "    test_image =np.expand_dims(x_test[img_idx], axis=0)\n",
    "    bf = vgg_model.predict(test_image,verbose=0)\n",
    "    pred_label = clf_model.predict_classes(bf,batch_size=1,verbose=0)\n",
    "    \n",
    "    print(\"Predicted Class:{}\".format(pred_label[0]))\n",
    "    if show_proba:\n",
    "        print(\"Predicted Probabilities\")\n",
    "        print(clf_model.predict_proba(bf))"
   ]
  },
  {
   "cell_type": "code",
   "execution_count": 54,
   "metadata": {},
   "outputs": [
    {
     "data": {
      "image/png": "[encoded data removed]",
      "text/plain": [
       "<matplotlib.figure.Figure at 0x20b84d21e10>"
      ]
     },
     "metadata": {},
     "output_type": "display_data"
    },
    {
     "name": "stdout",
     "output_type": "stream",
     "text": [
      "Actual Class:8\n",
      "Predicted Class:8\n",
      "Predicted Probabilities\n",
      "1/1 [==============================] - 0s\n",
      "[[  1.48474507e-03   3.18384357e-03   2.22270580e-09   1.51026228e-07\n",
      "    3.13638199e-10   5.12283584e-11   8.54018176e-11   5.50038418e-11\n",
      "    9.84005570e-01   1.13256825e-02]]\n"
     ]
    },
    {
     "data": {
      "image/png": "[encoded data removed]",
      "text/plain": [
       "<matplotlib.figure.Figure at 0x20b84e7ee48>"
      ]
     },
     "metadata": {},
     "output_type": "display_data"
    },
    {
     "name": "stdout",
     "output_type": "stream",
     "text": [
      "Actual Class:5\n",
      "Predicted Class:5\n",
      "Predicted Probabilities\n",
      "1/1 [==============================] - 0s\n",
      "[[  3.66592516e-08   3.57114695e-05   7.51468833e-05   1.46524936e-01\n",
      "    9.77872929e-08   8.52767646e-01   5.81625965e-04   1.08531840e-05\n",
      "    2.67574318e-08   3.92325774e-06]]\n"
     ]
    },
    {
     "data": {
      "image/png": "[encoded data removed]",
      "text/plain": [
       "<matplotlib.figure.Figure at 0x20b84ed7208>"
      ]
     },
     "metadata": {},
     "output_type": "display_data"
    },
    {
     "name": "stdout",
     "output_type": "stream",
     "text": [
      "Actual Class:9\n",
      "Predicted Class:9\n",
      "Predicted Probabilities\n",
      "1/1 [==============================] - 0s\n",
      "[[  1.07423693e-01   1.45525947e-01   9.38104291e-04   4.14230488e-03\n",
      "    3.73754185e-03   3.26172536e-04   4.70715531e-05   6.63721003e-03\n",
      "    1.52519494e-01   5.78702450e-01]]\n"
     ]
    }
   ],
   "source": [
    "img_idx = 3999 # sample indices : 999,1999 and 3999\n",
    "for img_idx in [999,1999,3999]:\n",
    "    predict_label(img_idx)"
   ]
  }
 ],
 "metadata": {
  "anaconda-cloud": {},
  "kernelspec": {
   "display_name": "Python [default]",
   "language": "python",
   "name": "python3"
  },
  "language_info": {
   "codemirror_mode": {
    "name": "ipython",
    "version": 3
   },
   "file_extension": ".py",
   "mimetype": "text/x-python",
   "name": "python",
   "nbconvert_exporter": "python",
   "pygments_lexer": "ipython3",
   "version": "3.5.2"
  }
 },
 "nbformat": 4,
 "nbformat_minor": 1
}
