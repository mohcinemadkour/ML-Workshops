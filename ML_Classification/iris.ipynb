{
 "cells": [
  {
   "cell_type": "code",
   "execution_count": 85,
   "metadata": {
    "collapsed": false
   },
   "outputs": [
    {
     "data": {
      "text/plain": [
       "'\\nData : https://archive.ics.uci.edu/ml/machine-learning-databases/iris/iris.data\\n'"
      ]
     },
     "execution_count": 85,
     "metadata": {},
     "output_type": "execute_result"
    }
   ],
   "source": [
    "'''\n",
    "Data : https://archive.ics.uci.edu/ml/machine-learning-databases/iris/iris.data\n",
    "'''"
   ]
  },
  {
   "cell_type": "code",
   "execution_count": 86,
   "metadata": {
    "collapsed": false
   },
   "outputs": [],
   "source": [
    "import pandas as pd\n",
    "from sklearn import preprocessing \n",
    "from keras.models import Sequential\n",
    "from keras.layers import Dense\n",
    "from keras.wrappers.scikit_learn import KerasClassifier\n",
    "from sklearn.cross_validation import KFold\n",
    "from sklearn.cross_validation import cross_val_score\n",
    "from keras.utils import np_utils\n",
    "from datetime import datetime"
   ]
  },
  {
   "cell_type": "code",
   "execution_count": 87,
   "metadata": {
    "collapsed": false
   },
   "outputs": [],
   "source": [
    "# Create Model\n",
    "def create_model():\n",
    "    model = Sequential()\n",
    "    model.add(Dense(4, input_dim=4, init= 'normal' , activation= 'relu' ))\n",
    "    model.add(Dense(3, init= 'normal' , activation= 'sigmoid'))\n",
    "    model.compile(loss= 'categorical_crossentropy' , optimizer= 'adam' , metrics=[ 'accuracy'])\n",
    "    return model"
   ]
  },
  {
   "cell_type": "code",
   "execution_count": 88,
   "metadata": {
    "collapsed": false
   },
   "outputs": [],
   "source": [
    "# Load Data\n",
    "dataframe = pd.read_csv(\"https://archive.ics.uci.edu/ml/machine-learning-databases/iris/iris.data\", header=None)\n",
    "dataset = dataframe.values\n",
    "features = dataset[:,0:4].astype(float)\n",
    "labels = dataset[:,4]"
   ]
  },
  {
   "cell_type": "code",
   "execution_count": 89,
   "metadata": {
    "collapsed": false
   },
   "outputs": [],
   "source": [
    "# Label encoding\n",
    "le = preprocessing.LabelEncoder()\n",
    "encoded_labels = le.fit_transform(labels)\n",
    "cat_labels = np_utils.to_categorical(encoded_labels)"
   ]
  },
  {
   "cell_type": "code",
   "execution_count": 90,
   "metadata": {
    "collapsed": false
   },
   "outputs": [
    {
     "name": "stdout",
     "output_type": "stream",
     "text": [
      "Accuracy: 88.67% (21.09%)\n",
      "Time Taken : 0:01:59\n"
     ]
    }
   ],
   "source": [
    "# Training\n",
    "start_time = datetime.now().replace(microsecond=0)\n",
    "estimator = KerasClassifier(build_fn=create_model, nb_epoch=200, batch_size=5, verbose=0)\n",
    "kfold = KFold(n=len(features), n_folds=10, shuffle=True, random_state=7)\n",
    "results = cross_val_score(estimator, features, cat_labels, cv=kfold)\n",
    "stop_time = datetime.now().replace(microsecond=0)\n",
    "print(\"Accuracy: %.2f%% (%.2f%%)\" % (results.mean()*100, results.std()*100))\n",
    "print 'Time Taken :', stop_time - start_time"
   ]
  },
  {
   "cell_type": "code",
   "execution_count": 84,
   "metadata": {
    "collapsed": false
   },
   "outputs": [
    {
     "name": "stdout",
     "output_type": "stream",
     "text": [
      "[0]\n",
      "['Iris-setosa'] Iris-setosa\n",
      "[0]\n",
      "['Iris-setosa'] Iris-setosa\n",
      "[0]\n",
      "['Iris-setosa'] Iris-setosa\n",
      "[0]\n",
      "['Iris-setosa'] Iris-setosa\n",
      "[0]\n",
      "['Iris-setosa'] Iris-setosa\n",
      "[0]\n",
      "['Iris-setosa'] Iris-setosa\n",
      "[0]\n",
      "['Iris-setosa'] Iris-setosa\n",
      "[0]\n",
      "['Iris-setosa'] Iris-setosa\n",
      "[0]\n",
      "['Iris-setosa'] Iris-setosa\n",
      "[0]\n",
      "['Iris-setosa'] Iris-setosa\n",
      "[0]\n",
      "['Iris-setosa'] Iris-setosa\n",
      "[0]\n",
      "['Iris-setosa'] Iris-setosa\n",
      "[0]\n",
      "['Iris-setosa'] Iris-setosa\n",
      "[0]\n",
      "['Iris-setosa'] Iris-setosa\n",
      "[0]\n",
      "['Iris-setosa'] Iris-setosa\n",
      "[0]\n",
      "['Iris-setosa'] Iris-setosa\n",
      "[0]\n",
      "['Iris-setosa'] Iris-setosa\n",
      "[0]\n",
      "['Iris-setosa'] Iris-setosa\n",
      "[0]\n",
      "['Iris-setosa'] Iris-setosa\n",
      "[0]\n",
      "['Iris-setosa'] Iris-setosa\n",
      "[0]\n",
      "['Iris-setosa'] Iris-setosa\n",
      "[0]\n",
      "['Iris-setosa'] Iris-setosa\n",
      "[0]\n",
      "['Iris-setosa'] Iris-setosa\n",
      "[0]\n",
      "['Iris-setosa'] Iris-setosa\n",
      "[0]\n",
      "['Iris-setosa'] Iris-setosa\n",
      "[0]\n",
      "['Iris-setosa'] Iris-setosa\n",
      "[0]\n",
      "['Iris-setosa'] Iris-setosa\n",
      "[0]\n",
      "['Iris-setosa'] Iris-setosa\n",
      "[0]\n",
      "['Iris-setosa'] Iris-setosa\n",
      "[0]\n",
      "['Iris-setosa'] Iris-setosa\n",
      "[0]\n",
      "['Iris-setosa'] Iris-setosa\n",
      "[0]\n",
      "['Iris-setosa'] Iris-setosa\n",
      "[0]\n",
      "['Iris-setosa'] Iris-setosa\n",
      "[0]\n",
      "['Iris-setosa'] Iris-setosa\n",
      "[0]\n",
      "['Iris-setosa'] Iris-setosa\n",
      "[0]\n",
      "['Iris-setosa'] Iris-setosa\n",
      "[0]\n",
      "['Iris-setosa'] Iris-setosa\n",
      "[0]\n",
      "['Iris-setosa'] Iris-setosa\n",
      "[0]\n",
      "['Iris-setosa'] Iris-setosa\n",
      "[0]\n",
      "['Iris-setosa'] Iris-setosa\n",
      "[0]\n",
      "['Iris-setosa'] Iris-setosa\n",
      "[0]\n",
      "['Iris-setosa'] Iris-setosa\n",
      "[0]\n",
      "['Iris-setosa'] Iris-setosa\n",
      "[0]\n",
      "['Iris-setosa'] Iris-setosa\n",
      "[0]\n",
      "['Iris-setosa'] Iris-setosa\n",
      "[0]\n",
      "['Iris-setosa'] Iris-setosa\n",
      "[0]\n",
      "['Iris-setosa'] Iris-setosa\n",
      "[0]\n",
      "['Iris-setosa'] Iris-setosa\n",
      "[0]\n",
      "['Iris-setosa'] Iris-setosa\n",
      "[0]\n",
      "['Iris-setosa'] Iris-setosa\n",
      "[1]\n",
      "['Iris-versicolor'] Iris-versicolor\n",
      "[1]\n",
      "['Iris-versicolor'] Iris-versicolor\n",
      "[1]\n",
      "['Iris-versicolor'] Iris-versicolor\n",
      "[1]\n",
      "['Iris-versicolor'] Iris-versicolor\n",
      "[1]\n",
      "['Iris-versicolor'] Iris-versicolor\n",
      "[1]\n",
      "['Iris-versicolor'] Iris-versicolor\n",
      "[1]\n",
      "['Iris-versicolor'] Iris-versicolor\n",
      "[1]\n",
      "['Iris-versicolor'] Iris-versicolor\n",
      "[1]\n",
      "['Iris-versicolor'] Iris-versicolor\n",
      "[1]\n",
      "['Iris-versicolor'] Iris-versicolor\n",
      "[1]\n",
      "['Iris-versicolor'] Iris-versicolor\n",
      "[1]\n",
      "['Iris-versicolor'] Iris-versicolor\n",
      "[1]\n",
      "['Iris-versicolor'] Iris-versicolor\n",
      "[1]\n",
      "['Iris-versicolor'] Iris-versicolor\n",
      "[1]\n",
      "['Iris-versicolor'] Iris-versicolor\n",
      "[1]\n",
      "['Iris-versicolor'] Iris-versicolor\n",
      "[1]\n",
      "['Iris-versicolor'] Iris-versicolor\n",
      "[1]\n",
      "['Iris-versicolor'] Iris-versicolor\n",
      "[2]\n",
      "['Iris-virginica'] Iris-versicolor\n",
      "[1]\n",
      "['Iris-versicolor'] Iris-versicolor\n",
      "[2]\n",
      "['Iris-virginica'] Iris-versicolor\n",
      "[1]\n",
      "['Iris-versicolor'] Iris-versicolor\n",
      "[2]\n",
      "['Iris-virginica'] Iris-versicolor\n",
      "[1]\n",
      "['Iris-versicolor'] Iris-versicolor\n",
      "[1]\n",
      "['Iris-versicolor'] Iris-versicolor\n",
      "[1]\n",
      "['Iris-versicolor'] Iris-versicolor\n",
      "[1]\n",
      "['Iris-versicolor'] Iris-versicolor\n",
      "[1]\n",
      "['Iris-versicolor'] Iris-versicolor\n",
      "[1]\n",
      "['Iris-versicolor'] Iris-versicolor\n",
      "[1]\n",
      "['Iris-versicolor'] Iris-versicolor\n",
      "[1]\n",
      "['Iris-versicolor'] Iris-versicolor\n",
      "[1]\n",
      "['Iris-versicolor'] Iris-versicolor\n",
      "[1]\n",
      "['Iris-versicolor'] Iris-versicolor\n",
      "[2]\n",
      "['Iris-virginica'] Iris-versicolor\n",
      "[1]\n",
      "['Iris-versicolor'] Iris-versicolor\n",
      "[1]\n",
      "['Iris-versicolor'] Iris-versicolor\n",
      "[1]\n",
      "['Iris-versicolor'] Iris-versicolor\n",
      "[1]\n",
      "['Iris-versicolor'] Iris-versicolor\n",
      "[1]\n",
      "['Iris-versicolor'] Iris-versicolor\n",
      "[1]\n",
      "['Iris-versicolor'] Iris-versicolor\n",
      "[1]\n",
      "['Iris-versicolor'] Iris-versicolor\n",
      "[1]\n",
      "['Iris-versicolor'] Iris-versicolor\n",
      "[1]\n",
      "['Iris-versicolor'] Iris-versicolor\n",
      "[1]\n",
      "['Iris-versicolor'] Iris-versicolor\n",
      "[1]\n",
      "['Iris-versicolor'] Iris-versicolor\n",
      "[1]\n",
      "['Iris-versicolor'] Iris-versicolor\n",
      "[1]\n",
      "['Iris-versicolor'] Iris-versicolor\n",
      "[1]\n",
      "['Iris-versicolor'] Iris-versicolor\n",
      "[1]\n",
      "['Iris-versicolor'] Iris-versicolor\n",
      "[1]\n",
      "['Iris-versicolor'] Iris-versicolor\n"
     ]
    }
   ],
   "source": [
    "# Testing\n",
    "estimator.fit(features, cat_labels)\n",
    "for item in range(100):\n",
    "    predictions = estimator.predict(features[item][numpy.newaxis,:])\n",
    "    print(encoder.inverse_transform(predictions)), labels[item]"
   ]
  },
  {
   "cell_type": "code",
   "execution_count": null,
   "metadata": {
    "collapsed": true
   },
   "outputs": [],
   "source": []
  }
 ],
 "metadata": {
  "kernelspec": {
   "display_name": "Python 2",
   "language": "python",
   "name": "python2"
  },
  "language_info": {
   "codemirror_mode": {
    "name": "ipython",
    "version": 2
   },
   "file_extension": ".py",
   "mimetype": "text/x-python",
   "name": "python",
   "nbconvert_exporter": "python",
   "pygments_lexer": "ipython2",
   "version": "2.7.6"
  }
 },
 "nbformat": 4,
 "nbformat_minor": 0
}
