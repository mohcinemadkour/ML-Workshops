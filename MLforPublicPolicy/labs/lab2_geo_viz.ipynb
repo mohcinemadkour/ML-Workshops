{
 "cells": [
  {
   "cell_type": "markdown",
   "metadata": {},
   "source": [
    "# Lab 2: Data exploration\n",
    "\n",
    "In HW1, we did some basic data exploration and visualization. In this lab, we will continue digging through the 311 datasets for more data wrangling and exploration practice. Specifically, we'll focus on geographical visualizations.\n",
    "\n",
    "To start we'll need to install the following python libraries:\n",
    "- geopandas\n",
    "- folium\n",
    "\n",
    "Install them with pip/conda:\n",
    "\n",
    "<code>pip install geopandas\n",
    "pip install folium\n",
    "</code>"
   ]
  },
  {
   "cell_type": "code",
   "execution_count": 1,
   "metadata": {
    "collapsed": true
   },
   "outputs": [],
   "source": [
    "import pandas as pd\n",
    "import geopandas as gpd\n",
    "import matplotlib.pyplot as plt\n",
    "import numpy as np\n",
    "%matplotlib inline"
   ]
  },
  {
   "cell_type": "markdown",
   "metadata": {},
   "source": [
    "As you've probably noticed while doing your homework, different neighborhoods/zipcodes have different distributions of 311 requests. We will attempt to visualize these differences.\n",
    "\n",
    "Before we start, we'll need an the boundaries of the Chicago zipcodes, which we can get from: https://data.cityofchicago.org/Facilities-Geographic-Boundaries/Boundaries-ZIP-Codes/gdcf-axmw\n",
    "\n",
    "First let's load our datasets and the zipcode geojson."
   ]
  },
  {
   "cell_type": "code",
   "execution_count": 4,
   "metadata": {
    "collapsed": true
   },
   "outputs": [],
   "source": [
    "# Load as many rows as you want\n",
    "size = 20000\n",
    "# Change these filepaths\n",
    "rod_df = pd.read_csv('data/311_rodent.csv', nrows=size)\n",
    "vac_df = pd.read_csv('data/311_vacant.csv', nrows=size)\n",
    "geo_df = gpd.read_file('data/chi_boundaries.geojson')"
   ]
  },
  {
   "cell_type": "code",
   "execution_count": 5,
   "metadata": {
    "collapsed": true
   },
   "outputs": [],
   "source": [
    "# Some preprocessing\n",
    "vac_df.drop(columns=['IS THE BUILDING DANGEROUS OR HAZARDOUS?'], inplace=True)\n",
    "vac_df.dropna(inplace=True)\n",
    "rod_df.dropna(inplace=True)\n",
    "vac_df['zip'] = vac_df['ZIP CODE'].astype(int)\n",
    "rod_df['zip'] = rod_df['ZIP Code'].astype(int)\n",
    "geo_df['zip'] = geo_df['zip'].astype(int)"
   ]
  },
  {
   "cell_type": "markdown",
   "metadata": {},
   "source": [
    "## Choropleth Maps with geopandas\n",
    "geopandas.read_file takes in a geojson file and creates a GeoDataFrame. You can read more about it from the [geopandas api](http://geopandas.org/data_structures.html). The GeoDataFrame can then be plotted right off the bat:"
   ]
  },
  {
   "cell_type": "code",
   "execution_count": 6,
   "metadata": {},
   "outputs": [
    {
     "data": {
      "text/html": [
       "<div>\n",
       "<style scoped>\n",
       "    .dataframe tbody tr th:only-of-type {\n",
       "        vertical-align: middle;\n",
       "    }\n",
       "\n",
       "    .dataframe tbody tr th {\n",
       "        vertical-align: top;\n",
       "    }\n",
       "\n",
       "    .dataframe thead th {\n",
       "        text-align: right;\n",
       "    }\n",
       "</style>\n",
       "<table border=\"1\" class=\"dataframe\">\n",
       "  <thead>\n",
       "    <tr style=\"text-align: right;\">\n",
       "      <th></th>\n",
       "      <th>objectid</th>\n",
       "      <th>shape_len</th>\n",
       "      <th>zip</th>\n",
       "      <th>shape_area</th>\n",
       "      <th>geometry</th>\n",
       "    </tr>\n",
       "  </thead>\n",
       "  <tbody>\n",
       "    <tr>\n",
       "      <th>0</th>\n",
       "      <td>33</td>\n",
       "      <td>42720.0444058</td>\n",
       "      <td>60647</td>\n",
       "      <td>106052287.488</td>\n",
       "      <td>(POLYGON ((-87.67762151065281 41.9177578010629...</td>\n",
       "    </tr>\n",
       "    <tr>\n",
       "      <th>1</th>\n",
       "      <td>34</td>\n",
       "      <td>48103.7827213</td>\n",
       "      <td>60639</td>\n",
       "      <td>127476050.762</td>\n",
       "      <td>(POLYGON ((-87.72683253163021 41.9226462671259...</td>\n",
       "    </tr>\n",
       "    <tr>\n",
       "      <th>2</th>\n",
       "      <td>35</td>\n",
       "      <td>27288.6096123</td>\n",
       "      <td>60707</td>\n",
       "      <td>45069038.4783</td>\n",
       "      <td>(POLYGON ((-87.78500237831095 41.9091478547167...</td>\n",
       "    </tr>\n",
       "    <tr>\n",
       "      <th>3</th>\n",
       "      <td>36</td>\n",
       "      <td>42527.9896789</td>\n",
       "      <td>60622</td>\n",
       "      <td>70853834.3797</td>\n",
       "      <td>(POLYGON ((-87.6670686895295 41.88885188496992...</td>\n",
       "    </tr>\n",
       "    <tr>\n",
       "      <th>4</th>\n",
       "      <td>37</td>\n",
       "      <td>47970.1401531</td>\n",
       "      <td>60651</td>\n",
       "      <td>99039621.2518</td>\n",
       "      <td>(POLYGON ((-87.70655631674127 41.8955534069940...</td>\n",
       "    </tr>\n",
       "  </tbody>\n",
       "</table>\n",
       "</div>"
      ],
      "text/plain": [
       "  objectid      shape_len    zip     shape_area  \\\n",
       "0       33  42720.0444058  60647  106052287.488   \n",
       "1       34  48103.7827213  60639  127476050.762   \n",
       "2       35  27288.6096123  60707  45069038.4783   \n",
       "3       36  42527.9896789  60622  70853834.3797   \n",
       "4       37  47970.1401531  60651  99039621.2518   \n",
       "\n",
       "                                            geometry  \n",
       "0  (POLYGON ((-87.67762151065281 41.9177578010629...  \n",
       "1  (POLYGON ((-87.72683253163021 41.9226462671259...  \n",
       "2  (POLYGON ((-87.78500237831095 41.9091478547167...  \n",
       "3  (POLYGON ((-87.6670686895295 41.88885188496992...  \n",
       "4  (POLYGON ((-87.70655631674127 41.8955534069940...  "
      ]
     },
     "execution_count": 6,
     "metadata": {},
     "output_type": "execute_result"
    }
   ],
   "source": [
    "geo_df.head()"
   ]
  },
  {
   "cell_type": "code",
   "execution_count": 7,
   "metadata": {},
   "outputs": [
    {
     "data": {
      "text/plain": [
       "<matplotlib.axes._subplots.AxesSubplot at 0x7fc567d806d0>"
      ]
     },
     "execution_count": 7,
     "metadata": {},
     "output_type": "execute_result"
    },
    {
     "data": {
      "image/png": "[encoded data removed]",
      "text/plain": [
       "<matplotlib.figure.Figure at 0x7fc567d80e50>"
      ]
     },
     "metadata": {},
     "output_type": "display_data"
    }
   ],
   "source": [
    "geo_df.plot()"
   ]
  },
  {
   "cell_type": "markdown",
   "metadata": {},
   "source": [
    "This is not too interesting so let's try to make the plot tell us something about each of the zipcodes. We can do this by setting the column parameter which will then shade the zipcode block according to that column. You can supply a [matplotlib colormap](https://matplotlib.org/examples/color/colormaps_reference.html) string for the cmap parameter for different types of color gradients."
   ]
  },
  {
   "cell_type": "code",
   "execution_count": 8,
   "metadata": {},
   "outputs": [
    {
     "data": {
      "text/plain": [
       "<matplotlib.axes._subplots.AxesSubplot at 0x7fc56784bdd0>"
      ]
     },
     "execution_count": 8,
     "metadata": {},
     "output_type": "execute_result"
    },
    {
     "data": {
      "image/png": "[encoded data removed]",
      "text/plain": [
       "<matplotlib.figure.Figure at 0x7fc567f13b90>"
      ]
     },
     "metadata": {},
     "output_type": "display_data"
    }
   ],
   "source": [
    "geo_df.plot(column='shape_area', cmap='OrRd')"
   ]
  },
  {
   "cell_type": "markdown",
   "metadata": {},
   "source": [
    "Now, let's augment this geoDataFrame with a new column for the number of 311 requests of rodent complaints to see something a bit more interesting. To do this we'll create a dataframe for the number of 311 requests that each zipcode received in aggregate, and merge this to geo_df"
   ]
  },
  {
   "cell_type": "code",
   "execution_count": 9,
   "metadata": {},
   "outputs": [
    {
     "name": "stdout",
     "output_type": "stream",
     "text": [
      "       count    zip\n",
      "zip                \n",
      "60601      8  60601\n",
      "60602      4  60602\n",
      "60603      6  60603\n",
      "60604      5  60604\n",
      "60605     31  60605\n",
      "       count    zip\n",
      "zip                \n",
      "60601      1  60601\n",
      "60605      8  60605\n",
      "60607      8  60607\n",
      "60608     82  60608\n",
      "60609    370  60609\n"
     ]
    }
   ],
   "source": [
    "# Get the counts\n",
    "rod_zip_counts = rod_df.groupby('zip').count()\n",
    "vac_zip_counts = vac_df.groupby('zip').count()\n",
    "# Make a smaller dataframe with two columns: \"zip\" and \"count\"\n",
    "r_zipcounts = pd.DataFrame({'zip': rod_zip_counts.index, 'count': rod_zip_counts['Status']})\n",
    "v_zipcounts = pd.DataFrame({'zip': vac_zip_counts.index, 'count': vac_zip_counts['Ward']})\n",
    "print(r_zipcounts.head())\n",
    "print(v_zipcounts.head())"
   ]
  },
  {
   "cell_type": "code",
   "execution_count": 10,
   "metadata": {
    "collapsed": true
   },
   "outputs": [],
   "source": [
    "# Join them onto geo_df\n",
    "rjoined = geo_df.join(r_zipcounts, on='zip', how='left', lsuffix='l', rsuffix='r')\n",
    "vjoined = geo_df.join(v_zipcounts, on='zip', how='left', lsuffix='l', rsuffix='r')\n",
    "# There is probably a cleaner way to do this, but I'll let you figure that out."
   ]
  },
  {
   "cell_type": "code",
   "execution_count": 13,
   "metadata": {},
   "outputs": [
    {
     "data": {
      "image/png": "[encoded data removed]",
      "text/plain": [
       "<matplotlib.figure.Figure at 0x7fc563bef5d0>"
      ]
     },
     "metadata": {},
     "output_type": "display_data"
    }
   ],
   "source": [
    "# Plot the map color coded by number of rodent 311 requests\n",
    "rjoined.plot(column='count', cmap='OrRd')\n",
    "plt.title('rodent map')\n",
    "plt.show()"
   ]
  },
  {
   "cell_type": "code",
   "execution_count": 14,
   "metadata": {},
   "outputs": [
    {
     "data": {
      "image/png": "[encoded data removed]",
      "text/plain": [
       "<matplotlib.figure.Figure at 0x7fc563bdde50>"
      ]
     },
     "metadata": {},
     "output_type": "display_data"
    }
   ],
   "source": [
    "# Plot the map color coded by number of vacancy calls\n",
    "vjoined.plot(column='count', cmap='OrRd')\n",
    "plt.title('vacancy map')\n",
    "plt.show()"
   ]
  },
  {
   "cell_type": "markdown",
   "metadata": {},
   "source": [
    "## Heatmaps with folium\n",
    "\n",
    "While these visualizations are useful in summarizing where we might expect more rodent/vacancy/etc requests to come from, they're a bit coarse because zipcode blocks can be pretty big. To get a finer grained view of where these requests happen, we'll learn how to plot a heatmap of these 311 requests using folium.\n",
    "\n",
    "Recall that our 311 data contains the latitude and longitude of these values."
   ]
  },
  {
   "cell_type": "code",
   "execution_count": 15,
   "metadata": {
    "collapsed": true
   },
   "outputs": [],
   "source": [
    "rod_xy = rod_df[['Latitude', 'Longitude']]\n",
    "vac_xy = vac_df[['LATITUDE', 'LONGITUDE']]"
   ]
  },
  {
   "cell_type": "code",
   "execution_count": 16,
   "metadata": {
    "collapsed": true
   },
   "outputs": [],
   "source": [
    "import folium\n",
    "from folium.plugins import HeatMap"
   ]
  },
  {
   "cell_type": "code",
   "execution_count": 17,
   "metadata": {},
   "outputs": [
    {
     "name": "stdout",
     "output_type": "stream",
     "text": [
      "Latitude     41.873109\n",
      "Longitude   -87.690398\n",
      "dtype: float64\n",
      "LATITUDE     41.793119\n",
      "LONGITUDE   -87.664039\n",
      "dtype: float64\n"
     ]
    }
   ],
   "source": [
    "print(rod_xy.mean())\n",
    "print(vac_xy.mean())"
   ]
  },
  {
   "cell_type": "code",
   "execution_count": null,
   "metadata": {
    "collapsed": true
   },
   "outputs": [],
   "source": [
    "hmap = folium.Map(location=[41.87, -87.69], zoom_start=10)\n",
    "hm_rod = HeatMap(list(zip(rod_xy['Latitude'].values, rod_xy['Longitude'].values), radius=13, blur=20)\n",
    "hmap.add_child(hm_rod)"
   ]
  },
  {
   "cell_type": "markdown",
   "metadata": {},
   "source": [
    "You should see something like:\n",
    "![Vacancy heatmap](imgs/rod.png)"
   ]
  },
  {
   "cell_type": "code",
   "execution_count": null,
   "metadata": {
    "collapsed": true
   },
   "outputs": [],
   "source": [
    "hmap = folium.Map(location=[41.87, -87.69], zoom_start=10)\n",
    "hm_rod = HeatMap(list(zip(vac_xy['LATITUDE'].values, vac_xy['LONGITUDE'].values)), radius=14, blur=20)\n",
    "hmap.add_child(hm_rod)"
   ]
  },
  {
   "cell_type": "markdown",
   "metadata": {},
   "source": [
    "![Vacancy heatmap](imgs/vac.png)"
   ]
  },
  {
   "cell_type": "markdown",
   "metadata": {
    "collapsed": true
   },
   "source": [
    "Play around with the zoom_start, radius and blur parameters to get a better sense of how they affect the resulting visualizations."
   ]
  },
  {
   "cell_type": "markdown",
   "metadata": {},
   "source": [
    "# Exercises:\n",
    "Now that we've seen how to create some simple geographical visualizations you should aggregate the 311 requests by zipcode and visualize request frequency, average request completion time by location, and any other things you find interesting. Some specific questions that might be good to explore:\n"
   ]
  },
  {
   "cell_type": "markdown",
   "metadata": {},
   "source": [
    "### Do certain neighborhoods get certain 311 requests completed faster than others?\n",
    "\n",
    "\n"
   ]
  },
  {
   "cell_type": "code",
   "execution_count": 2,
   "metadata": {
    "collapsed": true
   },
   "outputs": [],
   "source": [
    "#code"
   ]
  },
  {
   "cell_type": "markdown",
   "metadata": {},
   "source": [
    "### Is there any seasonality to the requests? what about seasonal variations in completion times?"
   ]
  },
  {
   "cell_type": "code",
   "execution_count": 3,
   "metadata": {
    "collapsed": true
   },
   "outputs": [],
   "source": [
    "#code"
   ]
  },
  {
   "cell_type": "markdown",
   "metadata": {},
   "source": [
    "### Are there any outliers in terms of time periods or neighborhoods?"
   ]
  },
  {
   "cell_type": "code",
   "execution_count": 4,
   "metadata": {
    "collapsed": true
   },
   "outputs": [],
   "source": [
    "# code"
   ]
  },
  {
   "cell_type": "markdown",
   "metadata": {},
   "source": [
    "### How do median household incomes differ by neighborhood?"
   ]
  },
  {
   "cell_type": "code",
   "execution_count": 5,
   "metadata": {
    "collapsed": true
   },
   "outputs": [],
   "source": [
    "#code"
   ]
  },
  {
   "cell_type": "markdown",
   "metadata": {},
   "source": [
    "### References\n",
    "http://pandas.pydata.org/pandas-docs/stable/timeseries.html\n",
    "\n",
    "http://pandas.pydata.org/pandas-docs/stable/generated/pandas.DataFrame.groupby.html\n",
    "\n",
    "http://geopandas.org/mapping.html\n",
    "\n",
    "http://geopandas.org/mergingdata.html\n",
    "\n",
    "http://python-visualization.github.io/folium/docs-v0.5.0/index.html\n",
    "\n",
    "### Examples\n",
    "http://blog.yhat.com/posts/interactive-geospatial-analysis.html\n",
    "\n",
    "https://alcidanalytics.com/p/geographic-heatmap-in-python"
   ]
  }
 ],
 "metadata": {
  "kernelspec": {
   "display_name": "Python 2",
   "language": "python",
   "name": "python2"
  },
  "language_info": {
   "codemirror_mode": {
    "name": "ipython",
    "version": 2
   },
   "file_extension": ".py",
   "mimetype": "text/x-python",
   "name": "python",
   "nbconvert_exporter": "python",
   "pygments_lexer": "ipython2",
   "version": "2.7.5"
  }
 },
 "nbformat": 4,
 "nbformat_minor": 2
}
