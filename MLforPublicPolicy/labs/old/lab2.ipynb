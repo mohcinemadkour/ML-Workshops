{
 "cells": [
  {
   "cell_type": "markdown",
   "metadata": {},
   "source": [
    "# Lab 2: More 311 Data exploration\n",
    "\n",
    "In HW1, we did some basic data exploration and visualization. In this lab, we will continue digging through the 311 datasets for more data wrangling practice."
   ]
  },
  {
   "cell_type": "markdown",
   "metadata": {},
   "source": [
    "## Git and Github\n",
    "\n",
    "Before we get started, let's get set up with git and github on our computers\n",
    "https://github.com/dssg/hitchhikers-guide/tree/master/curriculum/git-and-github/basic_git_tutorial is a good tutorial that you should go through if you're not comfortable with git and github.\n",
    "Make sure you set up an ssh key and add it to your github account to make it easy to push changes."
   ]
  },
  {
   "cell_type": "code",
   "execution_count": 1,
   "metadata": {
    "collapsed": true
   },
   "outputs": [],
   "source": [
    "import pandas as pd\n",
    "import numpy as np\n",
    "import matplotlib.pyplot as plt\n",
    "%matplotlib inline"
   ]
  },
  {
   "cell_type": "code",
   "execution_count": 72,
   "metadata": {
    "collapsed": false
   },
   "outputs": [],
   "source": [
    "# Download and Load datasets\n",
    "\n",
    "\n"
   ]
  },
  {
   "cell_type": "markdown",
   "metadata": {},
   "source": [
    "## Spatiotemporal data\n",
    "\n",
    "A lot of policy problems involve data related to some location (house, business, block, zipcode, city, etc.) at some time. It is useful to know how to do analysis on spatiotemporal data. The analysis below will help you get more comfortable with analyzing data with spatial and temporal components"
   ]
  },
  {
   "cell_type": "markdown",
   "metadata": {},
   "source": [
    "### Completion Times\n",
    "A natural thing to ask about 311 requests is how long does it take 311 requests to be completed? Do response times vary much between the different 311 request types? Plot the distribution of response times by each request type."
   ]
  },
  {
   "cell_type": "code",
   "execution_count": null,
   "metadata": {
    "collapsed": true
   },
   "outputs": [],
   "source": []
  },
  {
   "cell_type": "markdown",
   "metadata": {
    "collapsed": false
   },
   "source": [
    "Do you see any signs of errors or noise in the data? "
   ]
  },
  {
   "cell_type": "markdown",
   "metadata": {},
   "source": [
    "### Adding Time based features\n",
    "Extract the hour of day, day of week, month of year from the 311 request dates. The pandas to_datetime function may be helpful for this.\n",
    "Do the 311 request frequencies look the same by day of week/month of year? Do 311 requests filed on weekends take longer to complete than those filed on weekdays? Perform the same analysis for each different request type as well.\n",
    "Report any interesting/surprising findings."
   ]
  },
  {
   "cell_type": "code",
   "execution_count": null,
   "metadata": {
    "collapsed": true
   },
   "outputs": [],
   "source": []
  },
  {
   "cell_type": "markdown",
   "metadata": {},
   "source": [
    "### Time functions in pandas and pys thon\n",
    "\n",
    "You'll be manipulating dates quite a bit in python so you should be comfortable with turning date strings into datetime data types and then manipulating the dates. Some functions to explore are:\n",
    "\n",
    "* "
   ]
  },
  {
   "cell_type": "markdown",
   "metadata": {},
   "source": [
    "### Visualizing 311 request hotspots\n",
    "In HW1 we learned a bit about where 311 requests occurred most frequently. Let's get a better sense of this using a visualization of 311 requests by location. We'll need to download Chicago zipcode boundaries from https://data.cityofchicago.org/Facilities-Geographic-Boundaries/Boundaries-ZIP-Codes/gdcf-axmw\n",
    "and the geopandas library. If you don't already have geopandas installed, install it via:"
   ]
  },
  {
   "cell_type": "code",
   "execution_count": null,
   "metadata": {
    "collapsed": false
   },
   "outputs": [],
   "source": [
    "# if you're on your own machine\n",
    "sudo pip3 install geopandas\n",
    "\n",
    "# if you're on a CSIL machine\n",
    "pip3 install --user geopandas"
   ]
  },
  {
   "cell_type": "markdown",
   "metadata": {},
   "source": [
    "Here is a quick demo of the geopandas plotting which should help you get started with plotting Chicago zipcode areas:"
   ]
  },
  {
   "cell_type": "code",
   "execution_count": 62,
   "metadata": {
    "collapsed": false,
    "scrolled": true
   },
   "outputs": [
    {
     "data": {
      "text/html": [
       "<div>\n",
       "<table border=\"1\" class=\"dataframe\">\n",
       "  <thead>\n",
       "    <tr style=\"text-align: right;\">\n",
       "      <th></th>\n",
       "      <th>geometry</th>\n",
       "      <th>objectid</th>\n",
       "      <th>shape_area</th>\n",
       "      <th>shape_len</th>\n",
       "      <th>zip</th>\n",
       "    </tr>\n",
       "  </thead>\n",
       "  <tbody>\n",
       "    <tr>\n",
       "      <th>0</th>\n",
       "      <td>(POLYGON ((-87.67762151065281 41.9177578010629...</td>\n",
       "      <td>33</td>\n",
       "      <td>106052287.488</td>\n",
       "      <td>42720.0444058</td>\n",
       "      <td>60647</td>\n",
       "    </tr>\n",
       "    <tr>\n",
       "      <th>1</th>\n",
       "      <td>(POLYGON ((-87.72683253163021 41.9226462671259...</td>\n",
       "      <td>34</td>\n",
       "      <td>127476050.762</td>\n",
       "      <td>48103.7827213</td>\n",
       "      <td>60639</td>\n",
       "    </tr>\n",
       "    <tr>\n",
       "      <th>2</th>\n",
       "      <td>(POLYGON ((-87.78500237831095 41.9091478547167...</td>\n",
       "      <td>35</td>\n",
       "      <td>45069038.4783</td>\n",
       "      <td>27288.6096123</td>\n",
       "      <td>60707</td>\n",
       "    </tr>\n",
       "    <tr>\n",
       "      <th>3</th>\n",
       "      <td>(POLYGON ((-87.6670686895295 41.88885188496992...</td>\n",
       "      <td>36</td>\n",
       "      <td>70853834.3797</td>\n",
       "      <td>42527.9896789</td>\n",
       "      <td>60622</td>\n",
       "    </tr>\n",
       "    <tr>\n",
       "      <th>4</th>\n",
       "      <td>(POLYGON ((-87.70655631674127 41.8955534069940...</td>\n",
       "      <td>37</td>\n",
       "      <td>99039621.2518</td>\n",
       "      <td>47970.1401531</td>\n",
       "      <td>60651</td>\n",
       "    </tr>\n",
       "  </tbody>\n",
       "</table>\n",
       "</div>"
      ],
      "text/plain": [
       "                                            geometry objectid     shape_area  \\\n",
       "0  (POLYGON ((-87.67762151065281 41.9177578010629...       33  106052287.488   \n",
       "1  (POLYGON ((-87.72683253163021 41.9226462671259...       34  127476050.762   \n",
       "2  (POLYGON ((-87.78500237831095 41.9091478547167...       35  45069038.4783   \n",
       "3  (POLYGON ((-87.6670686895295 41.88885188496992...       36  70853834.3797   \n",
       "4  (POLYGON ((-87.70655631674127 41.8955534069940...       37  99039621.2518   \n",
       "\n",
       "       shape_len    zip  \n",
       "0  42720.0444058  60647  \n",
       "1  48103.7827213  60639  \n",
       "2  27288.6096123  60707  \n",
       "3  42527.9896789  60622  \n",
       "4  47970.1401531  60651  "
      ]
     },
     "execution_count": 62,
     "metadata": {},
     "output_type": "execute_result"
    }
   ],
   "source": [
    "import geopandas as gpd\n",
    "fname = 'Boundaries - ZIP Codes.geojson'\n",
    "chicago = gpd.read_file(fname)\n",
    "chicago.head()"
   ]
  },
  {
   "cell_type": "code",
   "execution_count": 71,
   "metadata": {
    "collapsed": false
   },
   "outputs": [
    {
     "name": "stderr",
     "output_type": "stream",
     "text": [
      "/Library/Frameworks/Python.framework/Versions/3.5/lib/python3.5/site-packages/geopandas/plotting.py:225: FutureWarning: 'colormap' is deprecated, please use 'cmap' instead (for consistency with matplotlib)\n",
      "  \"(for consistency with matplotlib)\", FutureWarning)\n"
     ]
    },
    {
     "data": {
      "text/plain": [
       "<matplotlib.axes._subplots.AxesSubplot at 0x10c2a0a58>"
      ]
     },
     "execution_count": 71,
     "metadata": {},
     "output_type": "execute_result"
    },
    {
     "data": {
      "image/png": "[encoded data removed]",
      "text/plain": [
       "<matplotlib.figure.Figure at 0x10c2ab080>"
      ]
     },
     "metadata": {},
     "output_type": "display_data"
    }
   ],
   "source": [
    "# plot a heatmap based on the zipcode size\n",
    "chicago.plot(column='shape_area', colormap='OrRd')"
   ]
  },
  {
   "cell_type": "markdown",
   "metadata": {},
   "source": [
    "Aggregate the 311 requests by zipcode and visualize request frequency, average request completion time by location, and any other things you find interesting. Do the same for some of the demograpic data(IE: median household income by zipcode, etc). Report any other interesting/surprising findings."
   ]
  },
  {
   "cell_type": "markdown",
   "metadata": {},
   "source": [
    "### Potentially helpful links\n",
    "http://pandas.pydata.org/pandas-docs/stable/timeseries.html\n",
    "\n",
    "http://pandas.pydata.org/pandas-docs/stable/generated/pandas.DataFrame.groupby.html\n",
    "\n",
    "http://geopandas.org/mapping.html\n",
    "\n",
    "http://geopandas.org/mergingdata.html"
   ]
  }
 ],
 "metadata": {
  "kernelspec": {
   "display_name": "Python 2",
   "language": "python",
   "name": "python2"
  },
  "language_info": {
   "codemirror_mode": {
    "name": "ipython",
    "version": 2
   },
   "file_extension": ".py",
   "mimetype": "text/x-python",
   "name": "python",
   "nbconvert_exporter": "python",
   "pygments_lexer": "ipython2",
   "version": "2.7.13"
  }
 },
 "nbformat": 4,
 "nbformat_minor": 2
}
