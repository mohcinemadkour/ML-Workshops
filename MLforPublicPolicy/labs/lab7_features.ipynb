{
 "cells": [
  {
   "cell_type": "markdown",
   "metadata": {},
   "source": [
    "# Feature Generation\n",
    "In today's lab we'll get some hands on experience with generating features. To do this we'll use Chicago DivvyBike data. Head over to the [Divvy bike system data page](https://www.divvybikes.com/system-data) and download the 2017 Q1 & Q2 data (or whatever year you prefer)."
   ]
  },
  {
   "cell_type": "code",
   "execution_count": 1,
   "metadata": {
    "collapsed": true,
    "scrolled": true
   },
   "outputs": [],
   "source": [
    "import pandas as pd\n",
    "import numpy as np\n",
    "import matplotlib.pyplot as plt\n",
    "from sklearn.model_selection import train_test_split\n",
    "from sklearn.ensemble import RandomForestClassifier\n",
    "from sklearn.linear_model import LogisticRegression\n",
    "%matplotlib inline"
   ]
  },
  {
   "cell_type": "code",
   "execution_count": 2,
   "metadata": {
    "collapsed": true
   },
   "outputs": [],
   "source": [
    "fname = 'data/Divvy_Trips_2017_Q1Q2/Divvy_Trips_2017_Q1.csv'\n",
    "df = pd.read_csv(fname)\n",
    "# It's good to test things on a smaller dataframe first to make sure things work before doing it on the entire dataset\n",
    "small_df = df[:1000] "
   ]
  },
  {
   "cell_type": "code",
   "execution_count": 3,
   "metadata": {},
   "outputs": [
    {
     "data": {
      "text/html": [
       "<div>\n",
       "<style scoped>\n",
       "    .dataframe tbody tr th:only-of-type {\n",
       "        vertical-align: middle;\n",
       "    }\n",
       "\n",
       "    .dataframe tbody tr th {\n",
       "        vertical-align: top;\n",
       "    }\n",
       "\n",
       "    .dataframe thead th {\n",
       "        text-align: right;\n",
       "    }\n",
       "</style>\n",
       "<table border=\"1\" class=\"dataframe\">\n",
       "  <thead>\n",
       "    <tr style=\"text-align: right;\">\n",
       "      <th></th>\n",
       "      <th>trip_id</th>\n",
       "      <th>start_time</th>\n",
       "      <th>end_time</th>\n",
       "      <th>bikeid</th>\n",
       "      <th>tripduration</th>\n",
       "      <th>from_station_id</th>\n",
       "      <th>from_station_name</th>\n",
       "      <th>to_station_id</th>\n",
       "      <th>to_station_name</th>\n",
       "      <th>usertype</th>\n",
       "      <th>gender</th>\n",
       "      <th>birthyear</th>\n",
       "    </tr>\n",
       "  </thead>\n",
       "  <tbody>\n",
       "    <tr>\n",
       "      <th>0</th>\n",
       "      <td>13518905</td>\n",
       "      <td>3/31/2017 23:59:07</td>\n",
       "      <td>4/1/2017 00:13:24</td>\n",
       "      <td>5292</td>\n",
       "      <td>857</td>\n",
       "      <td>66</td>\n",
       "      <td>Clinton St &amp; Lake St</td>\n",
       "      <td>171</td>\n",
       "      <td>May St &amp; Cullerton St</td>\n",
       "      <td>Subscriber</td>\n",
       "      <td>Male</td>\n",
       "      <td>1989.0</td>\n",
       "    </tr>\n",
       "    <tr>\n",
       "      <th>1</th>\n",
       "      <td>13518904</td>\n",
       "      <td>3/31/2017 23:56:25</td>\n",
       "      <td>4/1/2017 00:00:21</td>\n",
       "      <td>4408</td>\n",
       "      <td>236</td>\n",
       "      <td>199</td>\n",
       "      <td>Wabash Ave &amp; Grand Ave</td>\n",
       "      <td>26</td>\n",
       "      <td>McClurg Ct &amp; Illinois St</td>\n",
       "      <td>Subscriber</td>\n",
       "      <td>Male</td>\n",
       "      <td>1990.0</td>\n",
       "    </tr>\n",
       "    <tr>\n",
       "      <th>2</th>\n",
       "      <td>13518903</td>\n",
       "      <td>3/31/2017 23:55:33</td>\n",
       "      <td>4/1/2017 00:01:21</td>\n",
       "      <td>696</td>\n",
       "      <td>348</td>\n",
       "      <td>520</td>\n",
       "      <td>Greenview Ave &amp; Jarvis Ave</td>\n",
       "      <td>432</td>\n",
       "      <td>Clark St &amp; Lunt Ave</td>\n",
       "      <td>Subscriber</td>\n",
       "      <td>Female</td>\n",
       "      <td>1979.0</td>\n",
       "    </tr>\n",
       "    <tr>\n",
       "      <th>3</th>\n",
       "      <td>13518902</td>\n",
       "      <td>3/31/2017 23:54:46</td>\n",
       "      <td>3/31/2017 23:59:34</td>\n",
       "      <td>4915</td>\n",
       "      <td>288</td>\n",
       "      <td>110</td>\n",
       "      <td>Dearborn St &amp; Erie St</td>\n",
       "      <td>142</td>\n",
       "      <td>McClurg Ct &amp; Erie St</td>\n",
       "      <td>Subscriber</td>\n",
       "      <td>Male</td>\n",
       "      <td>1985.0</td>\n",
       "    </tr>\n",
       "    <tr>\n",
       "      <th>4</th>\n",
       "      <td>13518901</td>\n",
       "      <td>3/31/2017 23:53:33</td>\n",
       "      <td>4/1/2017 00:00:28</td>\n",
       "      <td>4247</td>\n",
       "      <td>415</td>\n",
       "      <td>327</td>\n",
       "      <td>Sheffield Ave &amp; Webster Ave</td>\n",
       "      <td>331</td>\n",
       "      <td>Halsted St &amp; Blackhawk St (*)</td>\n",
       "      <td>Subscriber</td>\n",
       "      <td>Female</td>\n",
       "      <td>1989.0</td>\n",
       "    </tr>\n",
       "  </tbody>\n",
       "</table>\n",
       "</div>"
      ],
      "text/plain": [
       "    trip_id          start_time            end_time  bikeid  tripduration  \\\n",
       "0  13518905  3/31/2017 23:59:07   4/1/2017 00:13:24    5292           857   \n",
       "1  13518904  3/31/2017 23:56:25   4/1/2017 00:00:21    4408           236   \n",
       "2  13518903  3/31/2017 23:55:33   4/1/2017 00:01:21     696           348   \n",
       "3  13518902  3/31/2017 23:54:46  3/31/2017 23:59:34    4915           288   \n",
       "4  13518901  3/31/2017 23:53:33   4/1/2017 00:00:28    4247           415   \n",
       "\n",
       "   from_station_id            from_station_name  to_station_id  \\\n",
       "0               66         Clinton St & Lake St            171   \n",
       "1              199       Wabash Ave & Grand Ave             26   \n",
       "2              520   Greenview Ave & Jarvis Ave            432   \n",
       "3              110        Dearborn St & Erie St            142   \n",
       "4              327  Sheffield Ave & Webster Ave            331   \n",
       "\n",
       "                 to_station_name    usertype  gender  birthyear  \n",
       "0          May St & Cullerton St  Subscriber    Male     1989.0  \n",
       "1       McClurg Ct & Illinois St  Subscriber    Male     1990.0  \n",
       "2            Clark St & Lunt Ave  Subscriber  Female     1979.0  \n",
       "3           McClurg Ct & Erie St  Subscriber    Male     1985.0  \n",
       "4  Halsted St & Blackhawk St (*)  Subscriber  Female     1989.0  "
      ]
     },
     "execution_count": 3,
     "metadata": {},
     "output_type": "execute_result"
    }
   ],
   "source": [
    "df.head()"
   ]
  },
  {
   "cell_type": "markdown",
   "metadata": {},
   "source": [
    "## Bike Data\n",
    "This data contains 12 columns:\n",
    "* trip id\n",
    "* start time\n",
    "* end time\n",
    "* bike id\n",
    "* from station id\n",
    "* to station id\n",
    "* to station name\n",
    "* user type: this can be one of \"Subscriber\", \"Customer\" and \"Dependent\" (as we'll see later, there aren't many dependents so we will drop these)\n",
    "* gender: only given if the user is a Subscriber otherwise NaN\n",
    "* birth year: only given if the user is a Subscriber, otherwise NaN\n",
    "\n",
    "## Our Classification Problem\n",
    "Given these features, we'd like to predict whether a given trip came from a Customer or a Subscriber. We'll have to ignore the gender and birth year for this problem because these features are only filled for trips made by Subscribers."
   ]
  },
  {
   "cell_type": "code",
   "execution_count": 4,
   "metadata": {},
   "outputs": [
    {
     "name": "stdout",
     "output_type": "stream",
     "text": [
      "9.589% Usertype Customer\n",
      "0.001% Usertype Dependent\n",
      "90.410% Usertype Subscriber\n"
     ]
    }
   ],
   "source": [
    "# how much of each user type do we have\n",
    "for name, g in df.groupby(['usertype']):\n",
    "    print(\"{:.3f}% Usertype {}\".format(100.0 * len(g) / len(df), name))"
   ]
  },
  {
   "cell_type": "code",
   "execution_count": 5,
   "metadata": {
    "collapsed": true
   },
   "outputs": [],
   "source": [
    "df = df[df['usertype'] != 'Dependent']\n",
    "smal_df = small_df[small_df['usertype'] != 'Dependent']"
   ]
  },
  {
   "cell_type": "markdown",
   "metadata": {},
   "source": [
    "## Some quick data exploration\n",
    "Use some parts of your ML pipeline that you wrote for Assignment 2 to get a better sense of what some of these features look like."
   ]
  },
  {
   "cell_type": "code",
   "execution_count": 6,
   "metadata": {},
   "outputs": [
    {
     "data": {
      "text/plain": [
       "Text(0.5,1,'Distribution of Subscriber Birth Years')"
      ]
     },
     "execution_count": 6,
     "metadata": {},
     "output_type": "execute_result"
    },
    {
     "data": {
      "image/png": "[encoded data removed]",
      "text/plain": [
       "<matplotlib.figure.Figure at 0x7fb96438b9e8>"
      ]
     },
     "metadata": {},
     "output_type": "display_data"
    }
   ],
   "source": [
    "df['birthyear'].hist(bins=20)\n",
    "plt.title(\"Distribution of Subscriber Birth Years\")"
   ]
  },
  {
   "cell_type": "code",
   "execution_count": 7,
   "metadata": {},
   "outputs": [
    {
     "data": {
      "text/plain": [
       "Text(0,0.5,'Frequency')"
      ]
     },
     "execution_count": 7,
     "metadata": {},
     "output_type": "execute_result"
    },
    {
     "data": {
      "image/png": "[encoded data removed]",
      "text/plain": [
       "<matplotlib.figure.Figure at 0x7fb9612fa0f0>"
      ]
     },
     "metadata": {},
     "output_type": "display_data"
    }
   ],
   "source": [
    "(df['tripduration']/60).hist(bins=20)\n",
    "plt.title('Distribution of trip durations')\n",
    "plt.xlabel('Trip duration(mins)')\n",
    "plt.ylabel('Frequency')"
   ]
  },
  {
   "cell_type": "code",
   "execution_count": 8,
   "metadata": {},
   "outputs": [
    {
     "name": "stdout",
     "output_type": "stream",
     "text": [
      "Max trip duration: 1438.9666666666667 minutes\n"
     ]
    },
    {
     "data": {
      "text/plain": [
       "Text(0,0.5,'Frequency')"
      ]
     },
     "execution_count": 8,
     "metadata": {},
     "output_type": "execute_result"
    },
    {
     "data": {
      "image/png": "[encoded data removed]",
      "text/plain": [
       "<matplotlib.figure.Figure at 0x7fb91f26e550>"
      ]
     },
     "metadata": {},
     "output_type": "display_data"
    }
   ],
   "source": [
    "# Looks like there are some big outliers\n",
    "print(\"Max trip duration: {} minutes\".format(df['tripduration'].max()/60.0))\n",
    "(df[df['tripduration'] < 60 * 60]['tripduration'] / 60).hist(bins=20)\n",
    "plt.title(\"Distribution of trips less than 1 hr\")\n",
    "plt.xlabel('Trip duration(mins)')\n",
    "plt.ylabel('Frequency')"
   ]
  },
  {
   "cell_type": "markdown",
   "metadata": {},
   "source": [
    "This more or less shows what you'd expect: most bike subscribers are young(< 40) and most trips are quick(< 10mins). What other interesting things can you find from this dataset?"
   ]
  },
  {
   "cell_type": "code",
   "execution_count": 9,
   "metadata": {
    "collapsed": true
   },
   "outputs": [],
   "source": [
    "# your exploration\n"
   ]
  },
  {
   "cell_type": "markdown",
   "metadata": {},
   "source": [
    "Let's start prepping our data to feed into two classifiers. For the purpose of this lab, we'll use LogisticRegression and RandomForests.\n",
    "\n",
    "1) What features do you think will be unusuable for this task?"
   ]
  },
  {
   "cell_type": "code",
   "execution_count": 10,
   "metadata": {
    "collapsed": true
   },
   "outputs": [],
   "source": [
    "# Drop the unusable features\n"
   ]
  },
  {
   "cell_type": "markdown",
   "metadata": {},
   "source": [
    "## Extracting Time Based Features\n",
    "Most of the information given to us is hidden inside the \"start_time\" and \"end_time\" columns, which are encoded as strings. But we'd like to get categorical/numerical features for the time. Luckily, pandas has a sweet [to_datetime function](https://pandas.pydata.org/pandas-docs/stable/generated/pandas.to_datetime.html) to convert the start/end time columns into pandas [TimeStamp objects](https://pandas.pydata.org/pandas-docs/stable/generated/pandas.Timestamp.html) which have useful attributes like:\n",
    "* dayofweek\n",
    "* hour\n",
    "* minute"
   ]
  },
  {
   "cell_type": "markdown",
   "metadata": {},
   "source": [
    "2) Add columns for day of week, hour of day, and whatever other time based features you think might be important. You can use to_datetime and then extract information from the TimeStamp object or write a function that parses a string if you want"
   ]
  },
  {
   "cell_type": "code",
   "execution_count": 15,
   "metadata": {
    "collapsed": true
   },
   "outputs": [],
   "source": [
    "# note this might take a few seconds since it's an expensive string operation\n",
    "df['start_time'] = pd.to_datetime(df['start_time']) \n",
    "df['day'] = df['start_time'].apply(lambda t: t.day)\n",
    "# add other time features"
   ]
  },
  {
   "cell_type": "markdown",
   "metadata": {},
   "source": [
    "There are many ways to parameterize the time based features. You should first ask yourself, can we just use the numerical time based features(day of week, hour, minute, etc) as they are for LogisticRegression or RandomForests?\n",
    "\n",
    "Something like day of week is probably better suited to be used as a categorical feature. For something like hour of day, it probably makes sense to use discretized categories like: morning/afternoon/evening.\n",
    "\n",
    "\n",
    "3) Make dummy columns for the categorical features"
   ]
  },
  {
   "cell_type": "code",
   "execution_count": 16,
   "metadata": {
    "collapsed": true
   },
   "outputs": [],
   "source": [
    "# dummify and bucket features\n"
   ]
  },
  {
   "cell_type": "markdown",
   "metadata": {},
   "source": [
    "## A first attempt\n",
    "Now that we have some rudimentary features, use just trip duration and some time based features to predict the usertype of each row. Note that you will have to drop the birthyear and gender columns because these will always be NaNs for customers and thus if you include them, you will end up getting getting 100% accuracy. For this problem, we will be most interested in being able to discriminate customers from subscribers.\n",
    "\n",
    "4) What metric should we use?"
   ]
  },
  {
   "cell_type": "code",
   "execution_count": 17,
   "metadata": {
    "collapsed": true
   },
   "outputs": [],
   "source": [
    "# import the metric of choice"
   ]
  },
  {
   "cell_type": "code",
   "execution_count": 11,
   "metadata": {},
   "outputs": [],
   "source": [
    "feat_cols = ['tripduration']\n",
    "Y = df['usertype']\n",
    "X = df[feat_cols]\n",
    "x_train, x_test, y_train, y_test = train_test_split(X, Y, test_size=0.2, random_state=42)"
   ]
  },
  {
   "cell_type": "markdown",
   "metadata": {},
   "source": [
    "5) Use the code you wrote from last weeks lab to do cross validation for the $C$ values in LogisticRegression. Use the best estimator to predict on the test set and report the loss as given by your metric of choice."
   ]
  },
  {
   "cell_type": "code",
   "execution_count": 20,
   "metadata": {
    "collapsed": true
   },
   "outputs": [],
   "source": [
    "# cross validate for LogisticRegression\n",
    "c_values = []\n"
   ]
  },
  {
   "cell_type": "markdown",
   "metadata": {
    "collapsed": true
   },
   "source": [
    "6) Do the same for RandomForests. Ideally your code should be written with a function signature the following so the only extra work to do is to pass in a different model:"
   ]
  },
  {
   "cell_type": "code",
   "execution_count": 21,
   "metadata": {
    "collapsed": true
   },
   "outputs": [],
   "source": [
    "def cross_validate_model(x_train, y_train, x_test, y_test, features, model, param_dict, metric):\n",
    "    '''\n",
    "    features: list of features to use\n",
    "    model: an sklearn classifier. IE: LogisticRegression()\n",
    "    param_dict: dictionary of parameters to cross validate over\n",
    "    metric: an sklearn.metric function\n",
    "    \n",
    "    Returns:\n",
    "        you can decide what it should return\n",
    "    '''\n",
    "    pass"
   ]
  },
  {
   "cell_type": "code",
   "execution_count": 22,
   "metadata": {
    "collapsed": true
   },
   "outputs": [],
   "source": [
    "# do cross validation + evaluation for RandomForests\n"
   ]
  },
  {
   "cell_type": "markdown",
   "metadata": {},
   "source": [
    "## Using the station features\n",
    "Your results should probably be kind of iffy. And that's probably reasonable since we've only used time based features. The station features are probably much more informative. The issue is that these features are encoded as street addresses and bike station IDs. We can use the street addresses, but we'll need to turn to an external API to get things like zipcode or lat/long for these street addresses. Or maybe there's some lookup table for bike station id->lat/long out there somewhere. Nevertheless, to keep our work selfcontained, we'll instead try to use these bike station IDs somehow."
   ]
  },
  {
   "cell_type": "code",
   "execution_count": 12,
   "metadata": {},
   "outputs": [
    {
     "name": "stdout",
     "output_type": "stream",
     "text": [
      "Total origin stations: 565\n",
      "Total destination stations: 565\n"
     ]
    }
   ],
   "source": [
    "print('Total origin stations: {}'.format(len(df['from_station_id'].unique())))\n",
    "print('Total destination stations: {}'.format(len(df['from_station_id'].unique())))"
   ]
  },
  {
   "cell_type": "markdown",
   "metadata": {},
   "source": [
    "7) What are the most common origin stations? Most common destination stations? Most common pair of start/end stations?"
   ]
  },
  {
   "cell_type": "code",
   "execution_count": 13,
   "metadata": {},
   "outputs": [],
   "source": [
    "# Some code for getting the number of trips that originated at each station id\n",
    "def get_sorted_cnts(df, col, name_col):\n",
    "    '''\n",
    "    Return 3 lists of the same length: station_ids, freqs, names\n",
    "        station_ids[i] is the ith most visited station for trip origins\n",
    "        freqs[i] = the frequency of station_id[i]\n",
    "        names[i] = name of station_id[i]\n",
    "    '''\n",
    "    res = []\n",
    "    for g, gdf in df.groupby([col]):\n",
    "        station_name = gdf.iloc[0][name_col]\n",
    "        res.append((g, len(gdf) / len(df), station_name))\n",
    "    res.sort(key=lambda x: x[1], reverse=True)\n",
    "    station_ids, freqs, names = zip(*res)\n",
    "    return station_ids, freqs, names"
   ]
  },
  {
   "cell_type": "code",
   "execution_count": 14,
   "metadata": {
    "collapsed": true
   },
   "outputs": [],
   "source": [
    "station_ids, freqs, origin_names = get_sorted_cnts(df, 'from_station_id', 'from_station_name')"
   ]
  },
  {
   "cell_type": "code",
   "execution_count": 20,
   "metadata": {},
   "outputs": [
    {
     "name": "stdout",
     "output_type": "stream",
     "text": [
      "1.896% | Station: Clinton St & Washington Blvd\n",
      "1.582% | Station: Clinton St & Madison St\n",
      "1.477% | Station: Canal St & Adams St\n",
      "1.215% | Station: Canal St & Madison St\n",
      "1.210% | Station: Clinton St & Jackson Blvd\n"
     ]
    }
   ],
   "source": [
    "for i in range(5):\n",
    "    print(\"{:.3f}% | Station: {}\".format(100.0 * freqs[i], origin_names[i]))"
   ]
  },
  {
   "cell_type": "markdown",
   "metadata": {
    "collapsed": true
   },
   "source": [
    "We have quite a few stations. If we were to create a dummy variable for every start/dest station that might be too memory expensive. Instead, what we can do is create a dummy variable for the top K or so start/end stations. And then create a dummy variable that is used for any start/end station that is not in the top K start/end stations."
   ]
  },
  {
   "cell_type": "markdown",
   "metadata": {},
   "source": [
    "8) Create dummy variables for the the top 5 start/end stations."
   ]
  },
  {
   "cell_type": "code",
   "execution_count": 113,
   "metadata": {
    "collapsed": true
   },
   "outputs": [],
   "source": [
    "# dummify start/end stations\n"
   ]
  },
  {
   "cell_type": "markdown",
   "metadata": {},
   "source": [
    "9) Retrain the LogisticRegression and RandomForests models with these added features. Does the performance improve?\n",
    "\n",
    "Hint: ideally you should just be calling the cross_validate_model function again, this time with a different list of features. If this is the route you take, note that your x_train, x_test need to have these added features!"
   ]
  },
  {
   "cell_type": "code",
   "execution_count": 118,
   "metadata": {
    "collapsed": true
   },
   "outputs": [],
   "source": [
    "# cross validate with new features\n"
   ]
  },
  {
   "cell_type": "markdown",
   "metadata": {},
   "source": [
    "In general, there is no way to know whether or not a new feature will improve your classifier without getting your hands dirty. Intuition helps, but in the end, you need to run train your models with these features and validate your hypotheses as per the scientific method! This can be very cumbersome "
   ]
  },
  {
   "cell_type": "markdown",
   "metadata": {
    "collapsed": true
   },
   "source": [
    "Further steps:\n",
    "* Try using a geocoding api to get the latitude/longitudes of each trip. You could imagine that customers are likely tourists, and tourists likely start/end their trips in tourisy locations like Millenium Park or the Lake Shore. Try extracting these location features and use them in your classifier.\n",
    "* Try adding binary features for federal holidays and days after a federal holiday"
   ]
  }
 ],
 "metadata": {
  "kernelspec": {
   "display_name": "Python3-env",
   "language": "python",
   "name": "python3-env"
  },
  "language_info": {
   "codemirror_mode": {
    "name": "ipython",
    "version": 3
   },
   "file_extension": ".py",
   "mimetype": "text/x-python",
   "name": "python",
   "nbconvert_exporter": "python",
   "pygments_lexer": "ipython3",
   "version": "3.5.5"
  }
 },
 "nbformat": 4,
 "nbformat_minor": 2
}
