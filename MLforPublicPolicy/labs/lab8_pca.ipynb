{
 "cells": [
  {
   "cell_type": "markdown",
   "metadata": {},
   "source": [
    "# Principal Components Analysis"
   ]
  },
  {
   "cell_type": "markdown",
   "metadata": {},
   "source": [
    "In this lab, we'll take a closer look at principal components analysis."
   ]
  },
  {
   "cell_type": "code",
   "execution_count": 7,
   "metadata": {
    "collapsed": true
   },
   "outputs": [],
   "source": [
    "from sklearn.decomposition import PCA\n",
    "from sklearn.datasets import fetch_mldata # will be used to grab the MNIST dataset\n",
    "import numpy as np\n",
    "import time\n",
    "import matplotlib.pyplot as plt\n",
    "%matplotlib inline"
   ]
  },
  {
   "cell_type": "markdown",
   "metadata": {},
   "source": [
    "PCA is one method of doing dimensionality reduction on your data. Often you'll have to deal with datasets where each\n",
    "datapoint is $d$ dimensional, for some large $d$. There are many reasons to want to deal with lower dimensional data:\n",
    "* cheaper computational cost of training models\n",
    "* better performance (think KNN with irrelevant features removed)\n",
    "* less memory overhead"
   ]
  },
  {
   "cell_type": "markdown",
   "metadata": {},
   "source": [
    "## MNIST Image Dataset\n",
    "[MNIST](https://en.wikipedia.org/wiki/MNIST_database) is a dataset consisting of 28x28 pixel handwritten digits that has been widely used(possibly overused) for validating various machine learning techniques. We can access this data by using sklearn's [fetch_mldata](http://scikit-learn.org/stable/modules/generated/sklearn.datasets.fetch_mldata.html) function like so:"
   ]
  },
  {
   "cell_type": "code",
   "execution_count": 4,
   "metadata": {
    "collapsed": true
   },
   "outputs": [],
   "source": [
    "def get_mnist():\n",
    "    '''\n",
    "    Grabs the MNIST dataset and returns a tuple of the features and classes\n",
    "    '''\n",
    "    mnist = fetch_mldata('MNIST original')\n",
    "    X = mnist.data.astype('float64')\n",
    "    y = mnist.target\n",
    "    return X, y"
   ]
  },
  {
   "cell_type": "code",
   "execution_count": 5,
   "metadata": {},
   "outputs": [],
   "source": [
    "X, y = get_mnist()"
   ]
  },
  {
   "cell_type": "code",
   "execution_count": 27,
   "metadata": {
    "scrolled": true
   },
   "outputs": [
    {
     "name": "stdout",
     "output_type": "stream",
     "text": [
      "Dataset shape: (70000, 784)\n"
     ]
    }
   ],
   "source": [
    "print(\"Dataset shape: {}\".format(X.shape))"
   ]
  },
  {
   "cell_type": "markdown",
   "metadata": {},
   "source": [
    "To see what these images look like, first we reshape the length $784$ vectors into 28-by-28 matrices, which we can then feed through matplotlib's [imshow](https://matplotlib.org/api/pyplot_api.html#matplotlib.pyplot.imshow) function."
   ]
  },
  {
   "cell_type": "code",
   "execution_count": 25,
   "metadata": {
    "scrolled": true
   },
   "outputs": [
    {
     "data": {
      "image/png": "[encoded data removed]",
      "text/plain": [
       "<matplotlib.figure.Figure at 0x7f96d05a67b8>"
      ]
     },
     "metadata": {},
     "output_type": "display_data"
    }
   ],
   "source": [
    "# Plot a few of these images at random\n",
    "plt.subplots(2, 3)\n",
    "for i, idx in enumerate(np.random.randint(0, len(X), 6)):\n",
    "    plt.subplot(2, 3, i+1)\n",
    "    plt.imshow(X[idx].reshape(28, 28), cmap='gray')\n",
    "    plt.title('Y = {:d}'.format(int(y[idx])))\n",
    "    plt.axis('off')"
   ]
  },
  {
   "cell_type": "markdown",
   "metadata": {},
   "source": [
    "784 dimensions is maybe a bit more dimensions than we'd really like to deal with. Let's try to use PCA to map these dimensions to some lower dimensional subspace and hopefully we can get away with using less than 784 dimensions of data."
   ]
  },
  {
   "cell_type": "code",
   "execution_count": 29,
   "metadata": {},
   "outputs": [
    {
     "data": {
      "text/plain": [
       "PCA(copy=True, iterated_power='auto', n_components=None, random_state=None,\n",
       "  svd_solver='auto', tol=0.0, whiten=False)"
      ]
     },
     "execution_count": 29,
     "metadata": {},
     "output_type": "execute_result"
    }
   ],
   "source": [
    "# Do a full PCA(aka find all 784 principal components)\n",
    "pca = PCA()\n",
    "pca.fit(X)\n",
    "explained_var = [np.sum(pca.explained_variance_ratio_[:i+1]) for i in range(784)]"
   ]
  },
  {
   "cell_type": "code",
   "execution_count": 119,
   "metadata": {},
   "outputs": [
    {
     "data": {
      "text/plain": [
       "<matplotlib.legend.Legend at 0x7f96d062df60>"
      ]
     },
     "execution_count": 119,
     "metadata": {},
     "output_type": "execute_result"
    },
    {
     "data": {
      "image/png": "[encoded data removed]",
      "text/plain": [
       "<matplotlib.figure.Figure at 0x7f96d029da90>"
      ]
     },
     "metadata": {},
     "output_type": "display_data"
    }
   ],
   "source": [
    "plt.plot(explained_var)\n",
    "plt.title('Explained variance by num of principal components')\n",
    "plt.xlabel('Num principal components used')\n",
    "plt.ylabel('Explained variance')\n",
    "plt.axhline(y=0.99, color='g', linestyle='--', label = '99% Explained Variance')\n",
    "plt.axhline(y=0.95, color='b', linestyle='--', label = '95% Explained Variance')\n",
    "plt.axhline(y=0.90, color='r', linestyle='--', label = '90% Explained Variance')\n",
    "plt.legend()"
   ]
  },
  {
   "cell_type": "code",
   "execution_count": 48,
   "metadata": {},
   "outputs": [
    {
     "name": "stdout",
     "output_type": "stream",
     "text": [
      "Explained var with 100 components | 0.917\n",
      "Explained var with 200 components | 0.967\n",
      "Explained var with 300 components | 0.987\n",
      "Explained var with 400 components | 0.996\n",
      "Explained var with 500 components | 0.999\n",
      "Explained var with 600 components | 1.000\n",
      "Explained var with 700 components | 1.000\n"
     ]
    }
   ],
   "source": [
    "for i in range(100, 800, 100):\n",
    "    print(\"Explained var with {} components | {:.3f}\".format(i, explained_var[i+1]))"
   ]
  },
  {
   "cell_type": "markdown",
   "metadata": {},
   "source": [
    "What this tells us is that we can capture most of the information in our dataset using less than half of the number of number of dimensions. In other datasets, this will be much more extreme.\n",
    "\n",
    "Since we're dealing with an image dataset we can visually see what we lose when we map our data down to lower dimensions. Let's first map the data down to 100 dimensions with PCA. We can map the 100 dimensional data back to length 784 dimension vectors using [PCA.inverse_transform](http://scikit-learn.org/stable/modules/generated/sklearn.decomposition.PCA.html#sklearn.decomposition.PCA.inverse_transform) and then turn this into a 28-by-28 image."
   ]
  },
  {
   "cell_type": "code",
   "execution_count": 151,
   "metadata": {
    "scrolled": true
   },
   "outputs": [
    {
     "name": "stdout",
     "output_type": "stream",
     "text": [
      "Dimensionally reduced data shape: (70000, 100)\n",
      "Reconstructed image shape: (70000, 784)\n"
     ]
    }
   ],
   "source": [
    "pca = PCA(n_components=100)\n",
    "X_100 = pca.fit_transform(X)\n",
    "print(\"Dimensionally reduced data shape: {}\".format(X_100.shape))\n",
    "X_reconstructed = pca.inverse_transform(X_100)\n",
    "print(\"Reconstructed image shape: {}\".format(X_reconstructed.shape)) # should be back to 784 dims"
   ]
  },
  {
   "cell_type": "code",
   "execution_count": 152,
   "metadata": {},
   "outputs": [
    {
     "data": {
      "image/png": "[encoded data removed]",
      "text/plain": [
       "<matplotlib.figure.Figure at 0x7f96d0740a58>"
      ]
     },
     "metadata": {},
     "output_type": "display_data"
    },
    {
     "data": {
      "image/png": "[encoded data removed]",
      "text/plain": [
       "<matplotlib.figure.Figure at 0x7f96d07792b0>"
      ]
     },
     "metadata": {},
     "output_type": "display_data"
    },
    {
     "data": {
      "image/png": "[encoded data removed]",
      "text/plain": [
       "<matplotlib.figure.Figure at 0x7f96d041a278>"
      ]
     },
     "metadata": {},
     "output_type": "display_data"
    }
   ],
   "source": [
    "# pick a few points. Show original and reconstructed(with 200 principal components) images\n",
    "for i, idx in enumerate(np.random.randint(0, len(X), 3)):\n",
    "    plt.figure(figsize=(8, 4))\n",
    "    plt.subplot(1, 2, 1)\n",
    "    plt.axis('off')\n",
    "    plt.imshow(X[idx].reshape(28, 28), cmap='gray')\n",
    "    if i == 0:\n",
    "        plt.title(\"Original\")\n",
    "    plt.subplot(1, 2, 2)\n",
    "    plt.imshow(X_reconstructed[idx].reshape(28, 28), cmap='gray')\n",
    "    plt.axis('off')\n",
    "    if i == 0:\n",
    "        plt.title(\"Reconstructed\")\n",
    "    plt.show()"
   ]
  },
  {
   "cell_type": "markdown",
   "metadata": {},
   "source": [
    "### Task #1\n",
    "1) Do PCA using 10, 25, and 50 components. Plot a few images of the reconstructed images(using inverse_transform like we did above) for each. Are the digits still recognizeable?"
   ]
  },
  {
   "cell_type": "markdown",
   "metadata": {},
   "source": [
    "## Fitting a model to the dimensionally reduced data\n",
    "We can eyeball these reconstructed images that use less than 784 features. The results are a bit blurrier than the original image, but we can still generally what the images are. This is all well and good, but now you should ask, can we train a model on top of the dimensionally reduced datapoints? How much of a performance hit will we see if we train a model on top of the 200-dimensional data versus the full 784 dimensional data?"
   ]
  },
  {
   "cell_type": "code",
   "execution_count": 153,
   "metadata": {
    "collapsed": true
   },
   "outputs": [],
   "source": [
    "from sklearn.linear_model import LogisticRegression\n",
    "from sklearn.model_selection import train_test_split\n",
    "from sklearn.metrics import accuracy_score, precision_score\n",
    "train_indices, test_indices = train_test_split(range(len(X)), test_size=0.2, shuffle=True)"
   ]
  },
  {
   "cell_type": "markdown",
   "metadata": {},
   "source": [
    "We'll train a Logistic Regression model. On top of the 100-dim data, and the 784 dimensional data and compare precision scores. For the LogisticRegression, set the solver to 'sag'(Stochastic average gradient). It's not too important what this does, but the default solver is too slow for the size of our dataset."
   ]
  },
  {
   "cell_type": "code",
   "execution_count": 154,
   "metadata": {},
   "outputs": [
    {
     "name": "stdout",
     "output_type": "stream",
     "text": [
      "Precision score with 100 dimensional input: 0.911\n"
     ]
    }
   ],
   "source": [
    "# recall that X_100 is the data lives in the 100 dimensional subspace spanned by the first 100 principal components\n",
    "lr = LogisticRegression(solver='sag', n_jobs=-1, multi_class='multinomial')\n",
    "lr.fit(X_100[train_indices], y[train_indices])\n",
    "y_pred_100 = lr.predict(X_100[test_indices])\n",
    "prec_100 = precision_score(y_pred_100, y[test_indices], average='macro')\n",
    "print(\"Precision score with {} dimensional input: {:.3f}\".format(X_100.shape[1], prec_100))"
   ]
  },
  {
   "cell_type": "code",
   "execution_count": 140,
   "metadata": {},
   "outputs": [
    {
     "name": "stdout",
     "output_type": "stream",
     "text": [
      "Precision score with 784 dimensional input: 0.916\n"
     ]
    },
    {
     "name": "stderr",
     "output_type": "stream",
     "text": [
      "/home/hopan/anaconda2/envs/gpuenv3/lib/python3.5/site-packages/sklearn/linear_model/sag.py:326: ConvergenceWarning: The max_iter was reached which means the coef_ did not converge\n",
      "  \"the coef_ did not converge\", ConvergenceWarning)\n"
     ]
    }
   ],
   "source": [
    "# Note this might take a few minutes b/c the optimization problem is more expensive with more dimensions!\n",
    "lr = LogisticRegression(solver='sag', n_jobs=-1, multi_class='multinomial')\n",
    "lr.fit(X[train_indices], y[train_indices])\n",
    "y_pred = lr.predict(X[test_indices])\n",
    "prec_full = precision_score(y_pred, y[test_indices], average='macro')\n",
    "print(\"Precision score with {} dimensional input: {:.3f}\".format(X.shape[1], prec_full))\n",
    "# this maybe doesnt converge but that's okay"
   ]
  },
  {
   "cell_type": "markdown",
   "metadata": {},
   "source": [
    "So it looks like we really don't suffer too much from using the first 100 principal components!"
   ]
  },
  {
   "cell_type": "markdown",
   "metadata": {},
   "source": [
    "# Task #2\n",
    "These two code blocks for fitting a logistic regression model to the 100-dimensional data and the full 784-dimensional data are pretty similar. Write a function performs PCA to map the data down to a $d$ dimensional space, and then fit+evaluate a logistic regression model to it. "
   ]
  },
  {
   "cell_type": "code",
   "execution_count": null,
   "metadata": {
    "collapsed": true
   },
   "outputs": [],
   "source": [
    "def train_reduced_dim_model(X, y, dim, eval_metric):\n",
    "    pass"
   ]
  },
  {
   "cell_type": "markdown",
   "metadata": {},
   "source": [
    "## Final Comments\n",
    "Generally you want to use PCA if\n",
    "* you want to reduce the dimensionality of your dataset to something more feasible\n",
    "* you want independent features\n",
    "* you don't care about interpretability\n",
    "\n",
    "The last point is important. For the MNIST dataset, every feature was a single pixel of the image. There is not too much meaning we're losing by using PCA. The principal components are then just some kind of linear combination of a bunch of pixel values. However, when dealing with some kind of policy data, our features _do_ have important interpretations that we probably don't want to lose. This is all to say that PCA can be a useful tool, but you should be wary of how, and when you do use it."
   ]
  },
  {
   "cell_type": "markdown",
   "metadata": {},
   "source": [
    "## Extra:\n",
    "You can also pass in a float value between $0$ and $1$ to PCA. This will then instead compute the number of components needed to get that amount of the explained variance. For example:"
   ]
  },
  {
   "cell_type": "code",
   "execution_count": 150,
   "metadata": {},
   "outputs": [
    {
     "name": "stdout",
     "output_type": "stream",
     "text": [
      "Num components needed to capture 0.800 of variance: 43\n",
      "Num components needed to capture 0.850 of variance: 59\n",
      "Num components needed to capture 0.950 of variance: 154\n",
      "Num components needed to capture 0.990 of variance: 331\n",
      "Num components needed to capture 0.999 of variance: 486\n"
     ]
    }
   ],
   "source": [
    "for explained_var in [0.8, 0.85, 0.95, 0.99, 0.999]:\n",
    "    pca_ = PCA(n_components=explained_var)\n",
    "    pca_.fit(X)\n",
    "    print(\"Num components needed to capture {:.3f} of variance: {}\".format(explained_var, pca_.n_components_))"
   ]
  },
  {
   "cell_type": "markdown",
   "metadata": {},
   "source": [
    "Try using PCA on your data for your project or for the data from assignment 3 to capture 90% of the variance of the data. How many dimensions did you need?"
   ]
  }
 ],
 "metadata": {
  "kernelspec": {
   "display_name": "Python3-env",
   "language": "python",
   "name": "python3-env"
  },
  "language_info": {
   "codemirror_mode": {
    "name": "ipython",
    "version": 3
   },
   "file_extension": ".py",
   "mimetype": "text/x-python",
   "name": "python",
   "nbconvert_exporter": "python",
   "pygments_lexer": "ipython3",
   "version": "3.5.5"
  }
 },
 "nbformat": 4,
 "nbformat_minor": 2
}
