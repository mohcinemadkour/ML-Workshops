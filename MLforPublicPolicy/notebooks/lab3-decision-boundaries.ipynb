{
 "cells": [
  {
   "cell_type": "code",
   "execution_count": null,
   "metadata": {
    "collapsed": true
   },
   "outputs": [],
   "source": [
    "%matplotlib inline\n",
    "import numpy as np\n",
    "import matplotlib.pyplot as plt\n",
    "from scipy.special import expit\n",
    "from IPython.display import Image"
   ]
  },
  {
   "cell_type": "code",
   "execution_count": null,
   "metadata": {
    "collapsed": false
   },
   "outputs": [],
   "source": [
    "N = 1000\n",
    "LIM = (-5, 5)\n",
    "rs = np.random.RandomState(0)\n",
    "X = rs.uniform(LIM[0], LIM[1], size=(N, 2))\n",
    "prob = expit(X[..., 0] * X[..., 1])\n",
    "prob = expit(X[..., 0])\n",
    "y = ((rs.uniform(size=N) < prob) * 2 - 1)"
   ]
  },
  {
   "cell_type": "code",
   "execution_count": null,
   "metadata": {
    "collapsed": false
   },
   "outputs": [],
   "source": [
    "plt.figure(figsize=(6, 6))\n",
    "plt.scatter(X[..., 0], X[..., 1], c=y)\n",
    "plt.xlim(LIM); plt.ylim(LIM);"
   ]
  },
  {
   "cell_type": "code",
   "execution_count": null,
   "metadata": {
    "collapsed": false
   },
   "outputs": [],
   "source": [
    "def evaluate_grid(cl, xlim=LIM, ylim=LIM):\n",
    "    xx0, xx1 = np.meshgrid(np.linspace(xlim[0], xlim[1], 100), np.linspace(ylim[0], ylim[1], 100))\n",
    "    XXflat = np.array([xx0.ravel(), xx1.ravel()]).T\n",
    "    if hasattr(cl, 'predict_proba'):\n",
    "        yyflat = cl.predict_proba(XXflat)[..., 1]\n",
    "    elif hasattr(cl, 'decision_function'):\n",
    "        yyflat = cl.decision_function(XXflat)\n",
    "    else:\n",
    "        yyflat = cl.predict(XXflat)\n",
    "\n",
    "    return yyflat.reshape(xx0.shape)"
   ]
  },
  {
   "cell_type": "code",
   "execution_count": null,
   "metadata": {
    "collapsed": false
   },
   "outputs": [],
   "source": [
    "from sklearn import tree, svm, naive_bayes, neighbors, ensemble\n",
    "\n",
    "cls = []\n",
    "\n",
    "if 1:\n",
    "    cl_dt = tree.DecisionTreeClassifier(max_depth=8)\n",
    "    #cl_dt = ensemble.RandomForestClassifier(n_estimators=100, max_depth=8, criterion='entropy')\n",
    "    cl_dt.fit(X, y)\n",
    "    cls.append(cl_dt)\n",
    "\n",
    "if 1:\n",
    "    cl_lsvm = svm.LinearSVC()\n",
    "    cl_lsvm.fit(X, y)\n",
    "    cls.append(cl_lsvm)\n",
    "\n",
    "if 1:\n",
    "    cl_ksvm = svm.SVC(C=0.00000001)\n",
    "    cl_ksvm.fit(X, y)\n",
    "    cls.append(cl_ksvm)\n",
    "    \n",
    "if 0:\n",
    "    cl_nb = naive_bayes.GaussianNB()\n",
    "    cl_nb.fit(X, y)\n",
    "    cls.append(cl_nb)\n",
    "\n",
    "if 1:\n",
    "    cl_knn = neighbors.KNeighborsClassifier(n_neighbors=41)\n",
    "    cl_knn.fit(X, y)\n",
    "    cls.append(cl_knn)\n",
    "    \n",
    "plt.figure(figsize=(6*len(cls), 6)) \n",
    "xx0, xx1 = np.meshgrid(np.linspace(LIM[0], LIM[1], 100), np.linspace(LIM[0], LIM[1], 100))\n",
    "for i, cl in enumerate(cls):\n",
    "    plt.subplot(1, len(cls), 1+i)\n",
    "    plt.contourf(xx0, xx1, evaluate_grid(cl), cmap=plt.cm.RdBu_r)\n",
    "    plt.scatter(X[..., 0], X[..., 1], c=y)\n",
    "    plt.xlim(LIM); plt.ylim(LIM)"
   ]
  },
  {
   "cell_type": "code",
   "execution_count": null,
   "metadata": {
    "collapsed": false
   },
   "outputs": [],
   "source": [
    "# Requires the probram Graphviz to be installed\n",
    "tree.export_graphviz(cl_dt, out_file='tree.dot')\n",
    "!dot tree.dot -T png -o tree.png\n",
    "Image('tree.png')"
   ]
  },
  {
   "cell_type": "code",
   "execution_count": null,
   "metadata": {
    "collapsed": true
   },
   "outputs": [],
   "source": []
  }
 ],
 "metadata": {
  "kernelspec": {
   "display_name": "Python 3",
   "language": "python",
   "name": "python3"
  },
  "language_info": {
   "codemirror_mode": {
    "name": "ipython",
    "version": 3
   },
   "file_extension": ".py",
   "mimetype": "text/x-python",
   "name": "python",
   "nbconvert_exporter": "python",
   "pygments_lexer": "ipython3",
   "version": "3.4.3"
  }
 },
 "nbformat": 4,
 "nbformat_minor": 0
}
