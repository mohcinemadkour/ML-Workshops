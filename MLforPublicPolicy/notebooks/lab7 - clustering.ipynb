{
 "cells": [
  {
   "cell_type": "code",
   "execution_count": null,
   "metadata": {
    "collapsed": true
   },
   "outputs": [],
   "source": [
    "%matplotlib inline\n",
    "import matplotlib as mpl\n",
    "mpl.style.use('ggplot')\n",
    "import matplotlib.pyplot as plt\n",
    "import numpy as np\n",
    "from sklearn import datasets, cluster\n",
    "from sklearn import mixture"
   ]
  },
  {
   "cell_type": "code",
   "execution_count": null,
   "metadata": {
    "collapsed": false
   },
   "outputs": [],
   "source": [
    "if 0: # mixture model (full covariance matrix) blobs\n",
    "    mu = np.array([-2, -2])\n",
    "    std1 = 1.0\n",
    "    std2 = 2.0\n",
    "    corr = 0.5\n",
    "    sigma = np.array([[std1**2, corr * std1 * std2], [corr * std1 * std2, std2**2]])\n",
    "    xx1 = np.random.multivariate_normal(mu, sigma, size=500)\n",
    "    print(sigma)\n",
    "\n",
    "    mu = np.array([2, 2])\n",
    "    std1 = 2.0\n",
    "    std2 = 2.0\n",
    "    corr = -0.8\n",
    "    sigma = np.array([[std1**2, corr * std1 * std2], [corr * std1 * std2, std2**2]])\n",
    "    xx2 = np.random.multivariate_normal(mu, sigma, size=500)\n",
    "    print(sigma)\n",
    "    xx = np.concatenate([xx1, xx2], axis=0)\n",
    "\n",
    "elif 0: \n",
    "    # mixture model (spherical) blobs\n",
    "    xx, yy = datasets.make_blobs(n_samples=500, centers=4, random_state=4)\n",
    "else:\n",
    "    # circles (requires non-linear cluster boundaries)\n",
    "    xx, yy = datasets.make_circles(n_samples=500, factor=0.5, noise=0.05)\n",
    "\n",
    "plt.figure(figsize=(7, 7))\n",
    "plt.scatter(xx[:, 0], xx[:, 1])\n",
    "#plt.xlim((-8, 8)); plt.ylim((-8, 8))"
   ]
  },
  {
   "cell_type": "code",
   "execution_count": null,
   "metadata": {
    "collapsed": false
   },
   "outputs": [],
   "source": [
    "model = cluster.KMeans(n_clusters=2)\n",
    "zz = model.fit_predict(xx)\n",
    "plt.scatter(xx[:, 0], xx[:, 1], c=zz)\n",
    "plt.scatter(*model.cluster_centers_.T, s=200, c=np.arange(len(model.cluster_centers_)))"
   ]
  },
  {
   "cell_type": "code",
   "execution_count": null,
   "metadata": {
    "collapsed": false
   },
   "outputs": [],
   "source": [
    "model = mixture.GMM(n_components=2, covariance_type='full')\n",
    "zz = model.fit_predict(xx)\n",
    "plt.scatter(xx[:, 0], xx[:, 1], c=zz)"
   ]
  },
  {
   "cell_type": "code",
   "execution_count": null,
   "metadata": {
    "collapsed": false
   },
   "outputs": [],
   "source": [
    "model.covars_[0]"
   ]
  },
  {
   "cell_type": "code",
   "execution_count": null,
   "metadata": {
    "collapsed": false
   },
   "outputs": [],
   "source": [
    "model.covars_[1]"
   ]
  },
  {
   "cell_type": "code",
   "execution_count": null,
   "metadata": {
    "collapsed": false
   },
   "outputs": [],
   "source": [
    "std = 0.1\n",
    "gamma = 1 / (2 * std**2)\n",
    "model = cluster.SpectralClustering(n_clusters=2, gamma=gamma)\n",
    "zz = model.fit_predict(xx)\n",
    "plt.scatter(xx[:, 0], xx[:, 1], c=zz)\n",
    "a = np.linspace(-2, 2, 100)\n",
    "from scipy.stats import norm\n",
    "plt.plot(a, norm.pdf(a, loc=-0.5, scale=std))\n",
    "plt.xlim((-2, 2)); plt.ylim((-2, 2))"
   ]
  },
  {
   "cell_type": "code",
   "execution_count": null,
   "metadata": {
    "collapsed": false
   },
   "outputs": [],
   "source": [
    "std = 0.1\n",
    "bandwidth = np.sqrt(2 * std)\n",
    "model = cluster.MeanShift(bandwidth=bandwidth)\n",
    "zz = model.fit_predict(xx)\n",
    "plt.scatter(xx[:, 0], xx[:, 1], c=zz)\n",
    "plt.scatter(*model.cluster_centers_.T, s=200, c=np.arange(len(model.cluster_centers_)))\n",
    "a = np.linspace(-2, 2, 100)\n",
    "from scipy.stats import norm\n",
    "plt.plot(a, norm.pdf(a, loc=-0.5, scale=std))\n",
    "plt.xlim((-2, 2)); plt.ylim((-2, 2))"
   ]
  },
  {
   "cell_type": "code",
   "execution_count": null,
   "metadata": {
    "collapsed": true
   },
   "outputs": [],
   "source": []
  }
 ],
 "metadata": {
  "kernelspec": {
   "display_name": "Python 3",
   "language": "python",
   "name": "python3"
  },
  "language_info": {
   "codemirror_mode": {
    "name": "ipython",
    "version": 3
   },
   "file_extension": ".py",
   "mimetype": "text/x-python",
   "name": "python",
   "nbconvert_exporter": "python",
   "pygments_lexer": "ipython3",
   "version": "3.5.0"
  }
 },
 "nbformat": 4,
 "nbformat_minor": 0
}
