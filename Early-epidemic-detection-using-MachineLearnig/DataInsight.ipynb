{
 "cells": [
  {
   "cell_type": "code",
   "execution_count": 126,
   "metadata": {
    "collapsed": true
   },
   "outputs": [],
   "source": [
    "from py2neo import authenticate, Graph, Node, Relationship\n",
    "import getpass\n",
    "import db_vis1\n",
    "import re\n",
    "import numpy as np"
   ]
  },
  {
   "cell_type": "code",
   "execution_count": 181,
   "metadata": {},
   "outputs": [
    {
     "data": {
      "text/html": [
       "\n",
       "        <iframe\n",
       "            width=\"100%\"\n",
       "            height=\"400\"\n",
       "            src=\"/home/putus/working_directory/hackathon/resultZ_graph-422.html\"\n",
       "            frameborder=\"0\"\n",
       "            allowfullscreen\n",
       "        ></iframe>\n",
       "        "
      ],
      "text/plain": [
       "<IPython.lib.display.IFrame at 0x7fc0a3cfe550>"
      ]
     },
     "execution_count": 181,
     "metadata": {},
     "output_type": "execute_result"
    }
   ],
   "source": [
    "options = {\"Disease\":'name','Patient':'name','Term':'name','PatientMaritalStatus':'name',\n",
    "           'Gender':'name','District':'name','Age':'name'}\n",
    "db_vis1.draw(topDs,options,\"/home/putus/working_directory/hackathon/resultZ_\")"
   ]
  },
  {
   "cell_type": "code",
   "execution_count": 2,
   "metadata": {
    "collapsed": true
   },
   "outputs": [],
   "source": [
    "uname = \"neo4j\"\n",
    "passw = \"beta\""
   ]
  },
  {
   "cell_type": "code",
   "execution_count": 3,
   "metadata": {
    "collapsed": true
   },
   "outputs": [],
   "source": [
    "authenticate(\"localhost:7474\",uname,passw)\n",
    "graph = Graph(\"http://localhost:7474/db/data/hackthon\") # create instances of a Graph() class "
   ]
  },
  {
   "cell_type": "markdown",
   "metadata": {},
   "source": [
    "# How much Data we have in DataBASE"
   ]
  },
  {
   "cell_type": "code",
   "execution_count": 188,
   "metadata": {
    "collapsed": true
   },
   "outputs": [],
   "source": [
    "Q1 = '''\n",
    "match (n) return head(labels(n)) as label, count(*)\n",
    "'''\n",
    "data1 = graph.run(Q1)"
   ]
  },
  {
   "cell_type": "code",
   "execution_count": 189,
   "metadata": {},
   "outputs": [
    {
     "name": "stdout",
     "output_type": "stream",
     "text": [
      "('label': 'Patient', 'count(*)': 98)\n",
      "('label': 'PatientMaritalStatus', 'count(*)': 6)\n",
      "('label': 'Disease', 'count(*)': 268)\n",
      "('label': 'Age', 'count(*)': 51)\n",
      "('label': 'District', 'count(*)': 4)\n",
      "('label': 'Gender', 'count(*)': 2)\n",
      "('label': 'Term', 'count(*)': 163)\n"
     ]
    }
   ],
   "source": [
    "for d1 in data1:\n",
    "    print(d1)"
   ]
  },
  {
   "cell_type": "markdown",
   "metadata": {},
   "source": [
    "# top State"
   ]
  },
  {
   "cell_type": "code",
   "execution_count": 199,
   "metadata": {
    "collapsed": true
   },
   "outputs": [],
   "source": [
    "q = '''\n",
    "match (u:District) with u,size( ()-[]->(u)) \n",
    "as topDisease order by topDisease desc limit 5 return u.name as label, topDisease\n",
    "'''\n",
    "da = graph.run(q)"
   ]
  },
  {
   "cell_type": "code",
   "execution_count": 200,
   "metadata": {},
   "outputs": [
    {
     "name": "stdout",
     "output_type": "stream",
     "text": [
      "('label': 'Jaipur', 'topDisease': 62)\n",
      "('label': 'Jodhpur', 'topDisease': 18)\n",
      "('label': 'Udaipur', 'topDisease': 12)\n",
      "('label': 'Jaisalmer', 'topDisease': 6)\n"
     ]
    }
   ],
   "source": [
    "for i in da:\n",
    "    print(i)"
   ]
  },
  {
   "cell_type": "markdown",
   "metadata": {},
   "source": [
    "# The Top 10 Disease"
   ]
  },
  {
   "cell_type": "code",
   "execution_count": 160,
   "metadata": {
    "collapsed": true
   },
   "outputs": [],
   "source": [
    "Q2 = '''\n",
    "match (u:Disease) with u,size( ()-[]->(u)) \n",
    "as topDisease order by topDisease desc limit 5 return u.name as label, topDisease\n",
    "'''\n",
    "data2 = graph.run(Q2)"
   ]
  },
  {
   "cell_type": "code",
   "execution_count": 193,
   "metadata": {},
   "outputs": [
    {
     "data": {
      "text/plain": [
       "['disorder ',\n",
       " 'diabetes ',\n",
       " 'diabetes mellitus ',\n",
       " 'rheumatoid arthritis ',\n",
       " 'arthritis ']"
      ]
     },
     "execution_count": 193,
     "metadata": {},
     "output_type": "execute_result"
    }
   ],
   "source": [
    "topDisease"
   ]
  },
  {
   "cell_type": "code",
   "execution_count": 161,
   "metadata": {},
   "outputs": [
    {
     "name": "stdout",
     "output_type": "stream",
     "text": [
      "('label': 'disorder ', 'topDisease': 50)\n",
      "('label': 'diabetes ', 'topDisease': 28)\n",
      "('label': 'diabetes mellitus ', 'topDisease': 27)\n",
      "('label': 'rheumatoid arthritis ', 'topDisease': 21)\n",
      "('label': 'arthritis ', 'topDisease': 21)\n"
     ]
    }
   ],
   "source": [
    "topDisease = []\n",
    "for d1 in data2:\n",
    "    print(d1)\n",
    "    topDisease.append(re.findall(r\"'(.*?)'\",str(d1), re.DOTALL)[1])"
   ]
  },
  {
   "cell_type": "markdown",
   "metadata": {},
   "source": [
    "# common Disease in district Udaipur"
   ]
  },
  {
   "cell_type": "code",
   "execution_count": 49,
   "metadata": {
    "collapsed": true
   },
   "outputs": [],
   "source": [
    "def query2graph(query):\n",
    "    list_result=[]\n",
    "    resultQuery = graph.run(query)\n",
    "    for data in resultQuery:\n",
    "        list_result.append(data)\n",
    "    return list_result"
   ]
  },
  {
   "cell_type": "code",
   "execution_count": 43,
   "metadata": {
    "collapsed": true
   },
   "outputs": [],
   "source": [
    "def findCommonPatient(cmDisease):\n",
    "    ResultQuery = graph.run(cmDisease)\n",
    "    common_patient = []\n",
    "    for data in ResultQuery:\n",
    "        val = str(data)\n",
    "        val = re.findall('\"([^\"]*)\"',val)\n",
    "        common_patient.append(val[0])\n",
    "    return common_patient"
   ]
  },
  {
   "cell_type": "code",
   "execution_count": 128,
   "metadata": {
    "collapsed": true
   },
   "outputs": [],
   "source": [
    "def greatethanAge(cmDisease):\n",
    "    ResultQuery = graph.run(cmDisease)\n",
    "    common_patient = []\n",
    "    for data in ResultQuery:\n",
    "        val = str(data)\n",
    "        val = re.findall('\"([^\"]*)\"',val)\n",
    "        common_patient.append([val[0],val[1]])\n",
    "    return (np.array(common_patient))"
   ]
  },
  {
   "cell_type": "markdown",
   "metadata": {},
   "source": [
    "# common Disease in district Udaipur"
   ]
  },
  {
   "cell_type": "code",
   "execution_count": 182,
   "metadata": {
    "collapsed": true
   },
   "outputs": [],
   "source": [
    "Q = '''\n",
    "match (u:Patient)-[r1]->(t) where t.name = 'Udaipur' RETURN u AS source_node, \n",
    "id(u) AS source_id, r1, t AS target_node, id(t) AS target_id\n",
    "'''"
   ]
  },
  {
   "cell_type": "code",
   "execution_count": 183,
   "metadata": {
    "collapsed": true
   },
   "outputs": [],
   "source": [
    "list_result = []\n",
    "list_result = query2graph(Q)\n",
    "for pat in findCommonPatient(Q):\n",
    "    Qx = \"match (u:Patient)-[r1]->(t:Disease) where u.name = '\"+pat+\"' RETURN u AS source_node,id(u) AS source_id, r1, t AS target_node, id(t) AS target_id\"\n",
    "    res = graph.run(Qx)\n",
    "    for dt in res:\n",
    "            list_result.append(dt)"
   ]
  },
  {
   "cell_type": "code",
   "execution_count": 184,
   "metadata": {},
   "outputs": [
    {
     "data": {
      "text/html": [
       "\n",
       "        <iframe\n",
       "            width=\"100%\"\n",
       "            height=\"400\"\n",
       "            src=\"/home/putus/working_directory/hackathon/resultX_graph-422.html\"\n",
       "            frameborder=\"0\"\n",
       "            allowfullscreen\n",
       "        ></iframe>\n",
       "        "
      ],
      "text/plain": [
       "<IPython.lib.display.IFrame at 0x7fc0a3bf5198>"
      ]
     },
     "execution_count": 184,
     "metadata": {},
     "output_type": "execute_result"
    }
   ],
   "source": [
    "db_vis1.draw(list_result,options,\"/home/putus/working_directory/hackathon/resultX_\")"
   ]
  },
  {
   "cell_type": "markdown",
   "metadata": {},
   "source": [
    "# Common Disease age greater than 60"
   ]
  },
  {
   "cell_type": "code",
   "execution_count": 69,
   "metadata": {
    "collapsed": true
   },
   "outputs": [],
   "source": [
    "# Patient greater than age 60"
   ]
  },
  {
   "cell_type": "code",
   "execution_count": 185,
   "metadata": {
    "collapsed": true
   },
   "outputs": [],
   "source": [
    "QY = '''\n",
    "match (u:Patient)-[r1]->(t:Age) where t.name > \"60.0\" RETURN u AS source_node, \n",
    "id(u) AS source_id, r1, t AS target_node, id(t) AS target_id\n",
    "'''"
   ]
  },
  {
   "cell_type": "code",
   "execution_count": 186,
   "metadata": {
    "collapsed": true,
    "scrolled": true
   },
   "outputs": [],
   "source": [
    "list_result1 = []\n",
    "list_result1 = query2graph(QY)\n",
    "for pat in findCommonPatient(QY):\n",
    "        Qy = \"match (u:Patient)-[r1]->(t:Disease) where u.name = '\"+pat+\"' RETURN u AS source_node,id(u) AS source_id, r1, t AS target_node, id(t) AS target_id\"\n",
    "        res = graph.run(Qy)\n",
    "        c = 2\n",
    "        for dt in res:\n",
    "            if c>0:\n",
    "                list_result1.append(dt)\n",
    "                c=c-1\n",
    "        Qz = \"match (u:Patient)-[r1]->(t:District) where u.name = '\"+pat+\"' RETURN u AS source_node,id(u) AS source_id, r1, t AS target_node, id(t) AS target_id\"\n",
    "        res = graph.run(Qz)\n",
    "        for dis in res:\n",
    "            list_result1.append(dis)"
   ]
  },
  {
   "cell_type": "code",
   "execution_count": 187,
   "metadata": {},
   "outputs": [
    {
     "data": {
      "text/html": [
       "\n",
       "        <iframe\n",
       "            width=\"100%\"\n",
       "            height=\"400\"\n",
       "            src=\"/home/putus/working_directory/hackathon/resultY_graph-422.html\"\n",
       "            frameborder=\"0\"\n",
       "            allowfullscreen\n",
       "        ></iframe>\n",
       "        "
      ],
      "text/plain": [
       "<IPython.lib.display.IFrame at 0x7fc0a3eec4a8>"
      ]
     },
     "execution_count": 187,
     "metadata": {},
     "output_type": "execute_result"
    }
   ],
   "source": [
    "db_vis1.draw(list_result1,options,\"/home/putus/working_directory/hackathon/resultY_\")"
   ]
  },
  {
   "cell_type": "markdown",
   "metadata": {},
   "source": [
    "# top Disease and District, age, sex"
   ]
  },
  {
   "cell_type": "code",
   "execution_count": 177,
   "metadata": {
    "collapsed": true
   },
   "outputs": [],
   "source": [
    "f=[]\n",
    "topDs = []\n",
    "for item in topDisease:\n",
    "    QD = \"match (u:Patient)-[r1]->(t:Disease) where t.name = '\"+item+\"' RETURN u AS source_node,id(u) AS source_id, r1, t AS target_node, id(t) AS target_id\"\n",
    "    res = graph.run(QD)\n",
    "    for dt in res:\n",
    "        topDs.append(dt)\n",
    "    for pat in findCommonPatient(QD):\n",
    "        f.append(pat)"
   ]
  },
  {
   "cell_type": "code",
   "execution_count": 178,
   "metadata": {
    "collapsed": true
   },
   "outputs": [],
   "source": [
    "patt = sorted(set(f), key=lambda x:f.index(x))"
   ]
  },
  {
   "cell_type": "code",
   "execution_count": 179,
   "metadata": {
    "collapsed": true
   },
   "outputs": [],
   "source": [
    "for pa in patt:\n",
    "    QQ1 = \"match (u:Patient)-[r1]->(t:District) where u.name = '\"+pa+\"' RETURN u AS source_node,id(u) AS source_id, r1, t AS target_node, id(t) AS target_id\"\n",
    "    res = graph.run(QQ1)\n",
    "    for tt in res:\n",
    "        topDs.append(tt)\n",
    "    QQ2 = \"match (u:Patient)-[r1]->(t:Age) where u.name = '\"+pa+\"' RETURN u AS source_node,id(u) AS source_id, r1, t AS target_node, id(t) AS target_id\"\n",
    "    res = graph.run(QQ2)\n",
    "    for tt in res:\n",
    "        topDs.append(tt)\n",
    "    QQ3 = \"match (u:Patient)-[r1]->(t:Gender) where u.name = '\"+pa+\"' RETURN u AS source_node,id(u) AS source_id, r1, t AS target_node, id(t) AS target_id\"\n",
    "    res = graph.run(QQ3)\n",
    "    for tt in res:\n",
    "        topDs.append(tt)"
   ]
  },
  {
   "cell_type": "code",
   "execution_count": null,
   "metadata": {
    "collapsed": true
   },
   "outputs": [],
   "source": []
  }
 ],
 "metadata": {
  "kernelspec": {
   "display_name": "Python 3",
   "language": "python",
   "name": "python3"
  },
  "language_info": {
   "codemirror_mode": {
    "name": "ipython",
    "version": 3
   },
   "file_extension": ".py",
   "mimetype": "text/x-python",
   "name": "python",
   "nbconvert_exporter": "python",
   "pygments_lexer": "ipython3",
   "version": "3.6.3"
  }
 },
 "nbformat": 4,
 "nbformat_minor": 2
}
